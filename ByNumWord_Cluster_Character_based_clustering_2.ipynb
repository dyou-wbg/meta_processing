{
  "cells": [
    {
      "cell_type": "markdown",
      "metadata": {
        "id": "view-in-github",
        "colab_type": "text"
      },
      "source": [
        "<a href=\"https://colab.research.google.com/github/dyou-wbg/meta_processing/blob/main/ByNumWord_Cluster_Character_based_clustering_2.ipynb\" target=\"_parent\"><img src=\"https://colab.research.google.com/assets/colab-badge.svg\" alt=\"Open In Colab\"/></a>"
      ]
    },
    {
      "cell_type": "code",
      "execution_count": 1,
      "id": "14f2d3d6",
      "metadata": {
        "colab": {
          "base_uri": "https://localhost:8080/"
        },
        "id": "14f2d3d6",
        "outputId": "94ceca6b-7932-4a78-e398-639be41a826d"
      },
      "outputs": [
        {
          "output_type": "stream",
          "name": "stdout",
          "text": [
            "Mounted at /content/drive\n"
          ]
        }
      ],
      "source": [
        "from google.colab import drive\n",
        "drive.mount('/content/drive')\n",
        "import pandas as pd\n",
        "from google.colab import drive\n",
        "import csv\n",
        "import os\n",
        "import re\n",
        "\n",
        "directory = '/content/drive/MyDrive'\n",
        "df_base = pd.read_csv(os.path.join(directory, 'All_titles.csv'))\n",
        "df_base.rename(columns={'0': 'title'}, inplace=True)\n",
        "df_base.drop(columns=['Unnamed: 0'], inplace=True)\n",
        "df = df_base.sample(n=10000).dropna()\n"
      ]
    },
    {
      "cell_type": "code",
      "source": [
        "df.head()"
      ],
      "metadata": {
        "colab": {
          "base_uri": "https://localhost:8080/",
          "height": 206
        },
        "id": "LYkOHF0gQJWo",
        "outputId": "93f0f211-192d-47af-e258-4bdcf5ca12c0"
      },
      "id": "LYkOHF0gQJWo",
      "execution_count": 3,
      "outputs": [
        {
          "output_type": "execute_result",
          "data": {
            "text/plain": [
              "                                                      title\n",
              "1737288   Towards inclusive cities and social sustainabi...\n",
              "3220253   The impact of increased interconnection on ele...\n",
              "4004390   Increasing older persons' employment in Finlan...\n",
              "5530736                       Cutting the cost of computing\n",
              "10241542  Executive Pay in the Public Sector: The Case o..."
            ],
            "text/html": [
              "\n",
              "  <div id=\"df-eb5d496d-5dcb-49fb-a561-9be8d70c5a17\" class=\"colab-df-container\">\n",
              "    <div>\n",
              "<style scoped>\n",
              "    .dataframe tbody tr th:only-of-type {\n",
              "        vertical-align: middle;\n",
              "    }\n",
              "\n",
              "    .dataframe tbody tr th {\n",
              "        vertical-align: top;\n",
              "    }\n",
              "\n",
              "    .dataframe thead th {\n",
              "        text-align: right;\n",
              "    }\n",
              "</style>\n",
              "<table border=\"1\" class=\"dataframe\">\n",
              "  <thead>\n",
              "    <tr style=\"text-align: right;\">\n",
              "      <th></th>\n",
              "      <th>title</th>\n",
              "    </tr>\n",
              "  </thead>\n",
              "  <tbody>\n",
              "    <tr>\n",
              "      <th>1737288</th>\n",
              "      <td>Towards inclusive cities and social sustainabi...</td>\n",
              "    </tr>\n",
              "    <tr>\n",
              "      <th>3220253</th>\n",
              "      <td>The impact of increased interconnection on ele...</td>\n",
              "    </tr>\n",
              "    <tr>\n",
              "      <th>4004390</th>\n",
              "      <td>Increasing older persons' employment in Finlan...</td>\n",
              "    </tr>\n",
              "    <tr>\n",
              "      <th>5530736</th>\n",
              "      <td>Cutting the cost of computing</td>\n",
              "    </tr>\n",
              "    <tr>\n",
              "      <th>10241542</th>\n",
              "      <td>Executive Pay in the Public Sector: The Case o...</td>\n",
              "    </tr>\n",
              "  </tbody>\n",
              "</table>\n",
              "</div>\n",
              "    <div class=\"colab-df-buttons\">\n",
              "\n",
              "  <div class=\"colab-df-container\">\n",
              "    <button class=\"colab-df-convert\" onclick=\"convertToInteractive('df-eb5d496d-5dcb-49fb-a561-9be8d70c5a17')\"\n",
              "            title=\"Convert this dataframe to an interactive table.\"\n",
              "            style=\"display:none;\">\n",
              "\n",
              "  <svg xmlns=\"http://www.w3.org/2000/svg\" height=\"24px\" viewBox=\"0 -960 960 960\">\n",
              "    <path d=\"M120-120v-720h720v720H120Zm60-500h600v-160H180v160Zm220 220h160v-160H400v160Zm0 220h160v-160H400v160ZM180-400h160v-160H180v160Zm440 0h160v-160H620v160ZM180-180h160v-160H180v160Zm440 0h160v-160H620v160Z\"/>\n",
              "  </svg>\n",
              "    </button>\n",
              "\n",
              "  <style>\n",
              "    .colab-df-container {\n",
              "      display:flex;\n",
              "      gap: 12px;\n",
              "    }\n",
              "\n",
              "    .colab-df-convert {\n",
              "      background-color: #E8F0FE;\n",
              "      border: none;\n",
              "      border-radius: 50%;\n",
              "      cursor: pointer;\n",
              "      display: none;\n",
              "      fill: #1967D2;\n",
              "      height: 32px;\n",
              "      padding: 0 0 0 0;\n",
              "      width: 32px;\n",
              "    }\n",
              "\n",
              "    .colab-df-convert:hover {\n",
              "      background-color: #E2EBFA;\n",
              "      box-shadow: 0px 1px 2px rgba(60, 64, 67, 0.3), 0px 1px 3px 1px rgba(60, 64, 67, 0.15);\n",
              "      fill: #174EA6;\n",
              "    }\n",
              "\n",
              "    .colab-df-buttons div {\n",
              "      margin-bottom: 4px;\n",
              "    }\n",
              "\n",
              "    [theme=dark] .colab-df-convert {\n",
              "      background-color: #3B4455;\n",
              "      fill: #D2E3FC;\n",
              "    }\n",
              "\n",
              "    [theme=dark] .colab-df-convert:hover {\n",
              "      background-color: #434B5C;\n",
              "      box-shadow: 0px 1px 3px 1px rgba(0, 0, 0, 0.15);\n",
              "      filter: drop-shadow(0px 1px 2px rgba(0, 0, 0, 0.3));\n",
              "      fill: #FFFFFF;\n",
              "    }\n",
              "  </style>\n",
              "\n",
              "    <script>\n",
              "      const buttonEl =\n",
              "        document.querySelector('#df-eb5d496d-5dcb-49fb-a561-9be8d70c5a17 button.colab-df-convert');\n",
              "      buttonEl.style.display =\n",
              "        google.colab.kernel.accessAllowed ? 'block' : 'none';\n",
              "\n",
              "      async function convertToInteractive(key) {\n",
              "        const element = document.querySelector('#df-eb5d496d-5dcb-49fb-a561-9be8d70c5a17');\n",
              "        const dataTable =\n",
              "          await google.colab.kernel.invokeFunction('convertToInteractive',\n",
              "                                                    [key], {});\n",
              "        if (!dataTable) return;\n",
              "\n",
              "        const docLinkHtml = 'Like what you see? Visit the ' +\n",
              "          '<a target=\"_blank\" href=https://colab.research.google.com/notebooks/data_table.ipynb>data table notebook</a>'\n",
              "          + ' to learn more about interactive tables.';\n",
              "        element.innerHTML = '';\n",
              "        dataTable['output_type'] = 'display_data';\n",
              "        await google.colab.output.renderOutput(dataTable, element);\n",
              "        const docLink = document.createElement('div');\n",
              "        docLink.innerHTML = docLinkHtml;\n",
              "        element.appendChild(docLink);\n",
              "      }\n",
              "    </script>\n",
              "  </div>\n",
              "\n",
              "\n",
              "<div id=\"df-768b623a-1ff4-4bc0-b4e5-6d6b8e5fd04c\">\n",
              "  <button class=\"colab-df-quickchart\" onclick=\"quickchart('df-768b623a-1ff4-4bc0-b4e5-6d6b8e5fd04c')\"\n",
              "            title=\"Suggest charts\"\n",
              "            style=\"display:none;\">\n",
              "\n",
              "<svg xmlns=\"http://www.w3.org/2000/svg\" height=\"24px\"viewBox=\"0 0 24 24\"\n",
              "     width=\"24px\">\n",
              "    <g>\n",
              "        <path d=\"M19 3H5c-1.1 0-2 .9-2 2v14c0 1.1.9 2 2 2h14c1.1 0 2-.9 2-2V5c0-1.1-.9-2-2-2zM9 17H7v-7h2v7zm4 0h-2V7h2v10zm4 0h-2v-4h2v4z\"/>\n",
              "    </g>\n",
              "</svg>\n",
              "  </button>\n",
              "\n",
              "<style>\n",
              "  .colab-df-quickchart {\n",
              "      --bg-color: #E8F0FE;\n",
              "      --fill-color: #1967D2;\n",
              "      --hover-bg-color: #E2EBFA;\n",
              "      --hover-fill-color: #174EA6;\n",
              "      --disabled-fill-color: #AAA;\n",
              "      --disabled-bg-color: #DDD;\n",
              "  }\n",
              "\n",
              "  [theme=dark] .colab-df-quickchart {\n",
              "      --bg-color: #3B4455;\n",
              "      --fill-color: #D2E3FC;\n",
              "      --hover-bg-color: #434B5C;\n",
              "      --hover-fill-color: #FFFFFF;\n",
              "      --disabled-bg-color: #3B4455;\n",
              "      --disabled-fill-color: #666;\n",
              "  }\n",
              "\n",
              "  .colab-df-quickchart {\n",
              "    background-color: var(--bg-color);\n",
              "    border: none;\n",
              "    border-radius: 50%;\n",
              "    cursor: pointer;\n",
              "    display: none;\n",
              "    fill: var(--fill-color);\n",
              "    height: 32px;\n",
              "    padding: 0;\n",
              "    width: 32px;\n",
              "  }\n",
              "\n",
              "  .colab-df-quickchart:hover {\n",
              "    background-color: var(--hover-bg-color);\n",
              "    box-shadow: 0 1px 2px rgba(60, 64, 67, 0.3), 0 1px 3px 1px rgba(60, 64, 67, 0.15);\n",
              "    fill: var(--button-hover-fill-color);\n",
              "  }\n",
              "\n",
              "  .colab-df-quickchart-complete:disabled,\n",
              "  .colab-df-quickchart-complete:disabled:hover {\n",
              "    background-color: var(--disabled-bg-color);\n",
              "    fill: var(--disabled-fill-color);\n",
              "    box-shadow: none;\n",
              "  }\n",
              "\n",
              "  .colab-df-spinner {\n",
              "    border: 2px solid var(--fill-color);\n",
              "    border-color: transparent;\n",
              "    border-bottom-color: var(--fill-color);\n",
              "    animation:\n",
              "      spin 1s steps(1) infinite;\n",
              "  }\n",
              "\n",
              "  @keyframes spin {\n",
              "    0% {\n",
              "      border-color: transparent;\n",
              "      border-bottom-color: var(--fill-color);\n",
              "      border-left-color: var(--fill-color);\n",
              "    }\n",
              "    20% {\n",
              "      border-color: transparent;\n",
              "      border-left-color: var(--fill-color);\n",
              "      border-top-color: var(--fill-color);\n",
              "    }\n",
              "    30% {\n",
              "      border-color: transparent;\n",
              "      border-left-color: var(--fill-color);\n",
              "      border-top-color: var(--fill-color);\n",
              "      border-right-color: var(--fill-color);\n",
              "    }\n",
              "    40% {\n",
              "      border-color: transparent;\n",
              "      border-right-color: var(--fill-color);\n",
              "      border-top-color: var(--fill-color);\n",
              "    }\n",
              "    60% {\n",
              "      border-color: transparent;\n",
              "      border-right-color: var(--fill-color);\n",
              "    }\n",
              "    80% {\n",
              "      border-color: transparent;\n",
              "      border-right-color: var(--fill-color);\n",
              "      border-bottom-color: var(--fill-color);\n",
              "    }\n",
              "    90% {\n",
              "      border-color: transparent;\n",
              "      border-bottom-color: var(--fill-color);\n",
              "    }\n",
              "  }\n",
              "</style>\n",
              "\n",
              "  <script>\n",
              "    async function quickchart(key) {\n",
              "      const quickchartButtonEl =\n",
              "        document.querySelector('#' + key + ' button');\n",
              "      quickchartButtonEl.disabled = true;  // To prevent multiple clicks.\n",
              "      quickchartButtonEl.classList.add('colab-df-spinner');\n",
              "      try {\n",
              "        const charts = await google.colab.kernel.invokeFunction(\n",
              "            'suggestCharts', [key], {});\n",
              "      } catch (error) {\n",
              "        console.error('Error during call to suggestCharts:', error);\n",
              "      }\n",
              "      quickchartButtonEl.classList.remove('colab-df-spinner');\n",
              "      quickchartButtonEl.classList.add('colab-df-quickchart-complete');\n",
              "    }\n",
              "    (() => {\n",
              "      let quickchartButtonEl =\n",
              "        document.querySelector('#df-768b623a-1ff4-4bc0-b4e5-6d6b8e5fd04c button');\n",
              "      quickchartButtonEl.style.display =\n",
              "        google.colab.kernel.accessAllowed ? 'block' : 'none';\n",
              "    })();\n",
              "  </script>\n",
              "</div>\n",
              "\n",
              "    </div>\n",
              "  </div>\n"
            ],
            "application/vnd.google.colaboratory.intrinsic+json": {
              "type": "dataframe",
              "variable_name": "df",
              "summary": "{\n  \"name\": \"df\",\n  \"rows\": 9970,\n  \"fields\": [\n    {\n      \"column\": \"title\",\n      \"properties\": {\n        \"dtype\": \"string\",\n        \"num_unique_values\": 9951,\n        \"samples\": [\n          \"Relationships between Muslims and Hindus in the United States: Mlecchas versus Kafirs?\",\n          \"CHAPTER 3 The Spirit of Speculation\",\n          \"Development Zone Establishment, Regional Bias and Enterprise Green Innovation\"\n        ],\n        \"semantic_type\": \"\",\n        \"description\": \"\"\n      }\n    }\n  ]\n}"
            }
          },
          "metadata": {},
          "execution_count": 3
        }
      ]
    },
    {
      "cell_type": "code",
      "execution_count": 2,
      "id": "32609b15",
      "metadata": {
        "id": "32609b15"
      },
      "outputs": [],
      "source": [
        "from string import printable\n",
        "from collections import Counter\n",
        "import numpy as np\n",
        "\n",
        "printable_dict = {c:i for i,c in enumerate(printable)}\n",
        "\n",
        "def vectorize(title):\n",
        "    \"\"\" Returns a vector with counts for each printable character found in a title \"\"\"\n",
        "    cnt = Counter(title)\n",
        "    array = [0 for _ in printable]+[0] # Last position is for nonprintable characters\n",
        "    for c,n in cnt.items():\n",
        "        if c in printable_dict:\n",
        "            array[printable_dict[c]]=n\n",
        "        else:\n",
        "            array[-1]+=n # Update last position if it's not printable\n",
        "    return np.array(array)"
      ]
    },
    {
      "cell_type": "code",
      "execution_count": 3,
      "id": "aafe5b8c",
      "metadata": {
        "id": "aafe5b8c"
      },
      "outputs": [],
      "source": [
        "vects = []\n",
        "for title in df.title:\n",
        "    vects.append(vectorize(title))"
      ]
    },
    {
      "cell_type": "code",
      "source": [
        "title"
      ],
      "metadata": {
        "colab": {
          "base_uri": "https://localhost:8080/",
          "height": 35
        },
        "id": "Mj9joqo_HfDK",
        "outputId": "128531fe-515f-4039-bb04-e97b39b23e3a"
      },
      "id": "Mj9joqo_HfDK",
      "execution_count": 5,
      "outputs": [
        {
          "output_type": "execute_result",
          "data": {
            "text/plain": [
              "'Corporate responsibility for economic, social and cultural rights: Rights in search of a remedy?'"
            ],
            "application/vnd.google.colaboratory.intrinsic+json": {
              "type": "string"
            }
          },
          "metadata": {},
          "execution_count": 5
        }
      ]
    },
    {
      "cell_type": "code",
      "source": [
        "vects\n",
        "#vectorize('Corporate responsibility for economic, social and cultural rights: Rights in search of a remedy?')"
      ],
      "metadata": {
        "id": "huhH9xEWHZc7"
      },
      "id": "huhH9xEWHZc7",
      "execution_count": null,
      "outputs": []
    },
    {
      "cell_type": "code",
      "source": [
        "vectorize('Corporate responsibility for economic, social and cultural rights: Rights in search of a remedy?')"
      ],
      "metadata": {
        "colab": {
          "base_uri": "https://localhost:8080/"
        },
        "id": "E5SbdArXHt3J",
        "outputId": "7f28c068-0f46-4f21-f8c4-6b234874b8a1"
      },
      "id": "E5SbdArXHt3J",
      "execution_count": 7,
      "outputs": [
        {
          "output_type": "execute_result",
          "data": {
            "text/plain": [
              "array([ 0,  0,  0,  0,  0,  0,  0,  0,  0,  0,  6,  1,  5,  2,  6,  2,  2,\n",
              "        3,  8,  0,  0,  4,  2,  4,  8,  2,  0,  8,  6,  5,  2,  0,  0,  0,\n",
              "        2,  0,  0,  0,  1,  0,  0,  0,  0,  0,  0,  0,  0,  0,  0,  0,  0,\n",
              "        0,  0,  1,  0,  0,  0,  0,  0,  0,  0,  0,  0,  0,  0,  0,  0,  0,\n",
              "        0,  0,  0,  0,  0,  1,  0,  0,  0,  1,  0,  0,  0,  0,  1,  0,  0,\n",
              "        0,  0,  0,  0,  0,  0,  0,  0,  0, 13,  0,  0,  0,  0,  0,  0])"
            ]
          },
          "metadata": {},
          "execution_count": 7
        }
      ]
    },
    {
      "cell_type": "code",
      "execution_count": null,
      "id": "75341cb2",
      "metadata": {
        "id": "75341cb2"
      },
      "outputs": [],
      "source": [
        "%%time\n",
        "threshold = 10\n",
        "min_length = 20\n",
        "# Iterate over title pairs\n",
        "for i, v1 in enumerate(vects):\n",
        "    if sum(v1[:-1]) > min_length: # Only above a minimum number of printable characters\n",
        "        for j, v2 in enumerate(vects):\n",
        "            if sum(v2[:-1]) > min_length:\n",
        "                if i!=j:\n",
        "                    l1 = np.linalg.norm((v1[:-1] - v2[:-1]), ord=1)\n",
        "                    if l1 < threshold:\n",
        "                        t1 = df.iloc[i].title\n",
        "                        t2 = df.iloc[j].title\n",
        "                        print(t1)\n",
        "                        print(t2)\n",
        "                        print('_'*100)"
      ]
    },
    {
      "cell_type": "code",
      "execution_count": null,
      "id": "8b232e2c",
      "metadata": {
        "colab": {
          "base_uri": "https://localhost:8080/"
        },
        "id": "8b232e2c",
        "outputId": "faf87b1c-c767-4c14-a92f-af0a0d60bb92"
      },
      "outputs": [
        {
          "output_type": "stream",
          "name": "stdout",
          "text": [
            "CPU times: user 551 ms, sys: 136 ms, total: 687 ms\n",
            "Wall time: 1.29 s\n"
          ]
        }
      ],
      "source": [
        "# when sample = 2k\n",
        "#%%time\n",
        "#from sklearn.neighbors import KDTree\n",
        "#tree = KDTree(np.array(vects), leaf_size=10, metric='cityblock')"
      ]
    },
    {
      "cell_type": "code",
      "source": [
        "%%time\n",
        "from sklearn.neighbors import KDTree\n",
        "tree = KDTree(np.array(vects), leaf_size=10, metric='cityblock')"
      ],
      "metadata": {
        "colab": {
          "base_uri": "https://localhost:8080/"
        },
        "id": "CIZFyjEOA9sU",
        "outputId": "a9222770-6b73-48a1-9f5b-5696b943f4fd"
      },
      "id": "CIZFyjEOA9sU",
      "execution_count": null,
      "outputs": [
        {
          "output_type": "stream",
          "name": "stdout",
          "text": [
            "CPU times: user 116 ms, sys: 922 µs, total: 117 ms\n",
            "Wall time: 117 ms\n"
          ]
        }
      ]
    },
    {
      "cell_type": "code",
      "execution_count": null,
      "id": "47756095",
      "metadata": {
        "id": "47756095"
      },
      "outputs": [],
      "source": [
        "for i in range(len(vects)):\n",
        "    dist, ind = tree.query(vects[i:i+1], k=3)\n",
        "    print(dist)"
      ]
    },
    {
      "cell_type": "code",
      "execution_count": null,
      "id": "a7879447",
      "metadata": {
        "colab": {
          "base_uri": "https://localhost:8080/"
        },
        "id": "a7879447",
        "outputId": "976d482b-29c1-4528-afa7-6a3ed12322ad"
      },
      "outputs": [
        {
          "output_type": "stream",
          "name": "stdout",
          "text": [
            "                                                      title\n",
            "1053159                                      At Close Range\n",
            "471596                                            Editorial\n",
            "10601686                                          Editorial\n",
            "5834      Persuasive Advertising and Product Differentia...\n",
            "8331533                                           Editorial\n",
            "119442           [Notifiable Diseases and Mortality Tables]\n",
            "10745515                   Uncertainty and Growth Disasters\n",
            "2561043                                      Books Received\n",
            "2028786   Price and quantity controls as facilitating de...\n",
            "8122187                                        Book Reviews\n",
            "811896                                       At Close Range\n"
          ]
        }
      ],
      "source": [
        "\n",
        "duplicate_rows = df[df.duplicated(subset='title')]\n",
        "print(duplicate_rows)\n"
      ]
    },
    {
      "cell_type": "code",
      "source": [
        "len(duplicate_rows)/len(df)"
      ],
      "metadata": {
        "colab": {
          "base_uri": "https://localhost:8080/"
        },
        "id": "NlQIqxBvBLsr",
        "outputId": "5c1cbfad-e306-492d-9604-578e71e41d66"
      },
      "id": "NlQIqxBvBLsr",
      "execution_count": null,
      "outputs": [
        {
          "output_type": "execute_result",
          "data": {
            "text/plain": [
              "0.0011038635223281485"
            ]
          },
          "metadata": {},
          "execution_count": 22
        }
      ]
    },
    {
      "cell_type": "markdown",
      "source": [
        "# with less threshold"
      ],
      "metadata": {
        "id": "5N08tZ5YH8Wq"
      },
      "id": "5N08tZ5YH8Wq"
    },
    {
      "cell_type": "code",
      "source": [
        "%%time\n",
        "threshold = 5\n",
        "min_length = 20\n",
        "# Iterate over title pairs\n",
        "for i, v1 in enumerate(vects):\n",
        "    if sum(v1[:-1]) > min_length: # Only above a minimum number of printable characters\n",
        "        for j, v2 in enumerate(vects):\n",
        "            if sum(v2[:-1]) > min_length:\n",
        "                if i!=j:\n",
        "                    l1 = np.linalg.norm((v1[:-1] - v2[:-1]), ord=1)\n",
        "                    if l1 < threshold:\n",
        "                        t1 = df.iloc[i].title\n",
        "                        t2 = df.iloc[j].title\n",
        "                        print(t1)\n",
        "                        print(t2)\n",
        "                        print('_'*100)"
      ],
      "metadata": {
        "colab": {
          "base_uri": "https://localhost:8080/"
        },
        "id": "7vS8jNBNH_LP",
        "outputId": "f77533c5-6fb4-4b1b-951f-20e647da4a53"
      },
      "id": "7vS8jNBNH_LP",
      "execution_count": 8,
      "outputs": [
        {
          "output_type": "stream",
          "name": "stdout",
          "text": [
            "Official Publications Received\n",
            "Official Publications Received\n",
            "____________________________________________________________________________________________________\n",
            "US quantitative easing and firm’s default risk: The role of Corporate Social Responsibility (CSR)\n",
            "US quantitative easing and firm’s default risk: The role of Corporate Social Responsibility (CSR)\n",
            "____________________________________________________________________________________________________\n",
            "US quantitative easing and firm’s default risk: The role of Corporate Social Responsibility (CSR)\n",
            "US quantitative easing and firm’s default risk: The role of Corporate Social Responsibility (CSR)\n",
            "____________________________________________________________________________________________________\n",
            "Official Publications Received\n",
            "Official Publications Received\n",
            "____________________________________________________________________________________________________\n",
            "CPU times: user 38min 13s, sys: 1min 49s, total: 40min 3s\n",
            "Wall time: 39min 27s\n"
          ]
        }
      ]
    },
    {
      "cell_type": "code",
      "source": [
        "%%time\n",
        "from sklearn.neighbors import KDTree\n",
        "tree = KDTree(np.array(vects), leaf_size=10, metric='cityblock')"
      ],
      "metadata": {
        "colab": {
          "base_uri": "https://localhost:8080/"
        },
        "id": "7q5GIzlxeucJ",
        "outputId": "581b08d0-aa78-4c27-eeb7-d7b64f990bda"
      },
      "id": "7q5GIzlxeucJ",
      "execution_count": 9,
      "outputs": [
        {
          "output_type": "stream",
          "name": "stdout",
          "text": [
            "CPU times: user 1.13 s, sys: 294 ms, total: 1.42 s\n",
            "Wall time: 1.97 s\n"
          ]
        }
      ]
    },
    {
      "cell_type": "code",
      "source": [
        "for i in range(len(vects)):\n",
        "    dist, ind = tree.query(vects[i:i+1], k=3)\n",
        "    print(dist)"
      ],
      "metadata": {
        "id": "_1JCok1qe113"
      },
      "id": "_1JCok1qe113",
      "execution_count": null,
      "outputs": []
    },
    {
      "cell_type": "code",
      "source": [
        "duplicate_rows = df[df.duplicated(subset='title')]\n",
        "print(duplicate_rows)\n"
      ],
      "metadata": {
        "colab": {
          "base_uri": "https://localhost:8080/"
        },
        "id": "NkLXeINde9Nu",
        "outputId": "d7140662-ca30-477d-b501-6b446a51ea15"
      },
      "id": "NkLXeINde9Nu",
      "execution_count": 11,
      "outputs": [
        {
          "output_type": "stream",
          "name": "stdout",
          "text": [
            "                                                     title\n",
            "875959                                           Editorial\n",
            "8792239                                         Discussion\n",
            "6301072  US quantitative easing and firm’s default risk...\n",
            "2434640                                  England and Wales\n",
            "60295                                     Political Review\n",
            "1015763                                     At Close Range\n",
            "4199185                     Official Publications Received\n"
          ]
        }
      ]
    },
    {
      "cell_type": "code",
      "source": [
        "len(duplicate_rows)/len(df)"
      ],
      "metadata": {
        "colab": {
          "base_uri": "https://localhost:8080/"
        },
        "id": "Xhf8s1e6fAWP",
        "outputId": "08cd0143-d64d-4793-ebc4-06467f1bba2e"
      },
      "id": "Xhf8s1e6fAWP",
      "execution_count": 12,
      "outputs": [
        {
          "output_type": "execute_result",
          "data": {
            "text/plain": [
              "0.0007020359041219537"
            ]
          },
          "metadata": {},
          "execution_count": 12
        }
      ]
    },
    {
      "cell_type": "markdown",
      "source": [
        "# From here"
      ],
      "metadata": {
        "id": "vx3UOEYEPZHH"
      },
      "id": "vx3UOEYEPZHH"
    },
    {
      "cell_type": "markdown",
      "source": [
        "#run it with threshold = 10"
      ],
      "metadata": {
        "id": "eYbnvL3Ch1DJ"
      },
      "id": "eYbnvL3Ch1DJ"
    },
    {
      "cell_type": "code",
      "source": [
        "from string import printable\n",
        "from collections import Counter\n",
        "import numpy as np\n",
        "\n",
        "printable_dict = {c:i for i,c in enumerate(printable)}\n",
        "\n",
        "def vectorize(title):\n",
        "    \"\"\" Returns a vector with counts for each printable character found in a title \"\"\"\n",
        "    cnt = Counter(title)\n",
        "    array = [0 for _ in printable]+[0] # Last position is for nonprintable characters\n",
        "    for c,n in cnt.items():\n",
        "        if c in printable_dict:\n",
        "            array[printable_dict[c]]=n\n",
        "        else:\n",
        "            array[-1]+=n # Update last position if it's not printable\n",
        "    return np.array(array)\n",
        "\n",
        "vects = []\n",
        "for title in df.title:\n",
        "    vects.append(vectorize(title))"
      ],
      "metadata": {
        "id": "KTuwni7Jh2yt"
      },
      "id": "KTuwni7Jh2yt",
      "execution_count": 6,
      "outputs": []
    },
    {
      "cell_type": "code",
      "source": [
        "%%time\n",
        "threshold = 10\n",
        "min_length = 20\n",
        "# Iterate over title pairs\n",
        "for i, v1 in enumerate(vects):\n",
        "    if sum(v1[:-1]) > min_length: # Only above a minimum number of printable characters\n",
        "        for j, v2 in enumerate(vects):\n",
        "            if sum(v2[:-1]) > min_length:\n",
        "                if i!=j:\n",
        "                    l1 = np.linalg.norm((v1[:-1] - v2[:-1]), ord=1)\n",
        "                    if l1 < threshold:\n",
        "                        t1 = df.iloc[i].title\n",
        "                        t2 = df.iloc[j].title\n",
        "                        print(t1)\n",
        "                        print(t2)\n",
        "                        print('_'*100)\n"
      ],
      "metadata": {
        "colab": {
          "base_uri": "https://localhost:8080/"
        },
        "id": "duSdAY2UjHbM",
        "outputId": "ea6100f5-3eb5-43a3-9aeb-97f9cd64f7a4"
      },
      "id": "duSdAY2UjHbM",
      "execution_count": 7,
      "outputs": [
        {
          "output_type": "stream",
          "name": "stdout",
          "text": [
            "Economic History and Cliometrics\n",
            "Political and Economic History\n",
            "____________________________________________________________________________________________________\n",
            "List of Abbreviations\n",
            "Abbreviations and notes\n",
            "____________________________________________________________________________________________________\n",
            "List of Abbreviations\n",
            "List of Abbreviations\n",
            "____________________________________________________________________________________________________\n",
            "Panel Data Econometrics\n",
            "Social Sector Management\n",
            "____________________________________________________________________________________________________\n",
            "Political and Economic History\n",
            "Economic History and Cliometrics\n",
            "____________________________________________________________________________________________________\n",
            "The Free Market and Morality\n",
            "Foreign Trade and the Money Market\n",
            "____________________________________________________________________________________________________\n",
            "Демографические процессы в Омской области в 1990-2004 гг. И их влияние на региональный рынок труда\n",
            "Клинико-эпидемиологический анализ глазной заболеваемости, инвалидности и стационарной офтальмологической помощи населению Самарской области за период 2010-2014 гг\n",
            "____________________________________________________________________________________________________\n",
            "Клинико-эпидемиологический анализ глазной заболеваемости, инвалидности и стационарной офтальмологической помощи населению Самарской области за период 2010-2014 гг\n",
            "Демографические процессы в Омской области в 1990-2004 гг. И их влияние на региональный рынок труда\n",
            "____________________________________________________________________________________________________\n",
            "Auto industry cruises on\n",
            "Dishonesty under scrutiny\n",
            "____________________________________________________________________________________________________\n",
            "The Impact of Expectations, Match Importance, and Results in the Stock Prices of European Football Teams\n",
            "The Impact of Expectations, Match Importance, and Results in the Stock Prices of European Football Teams\n",
            "____________________________________________________________________________________________________\n",
            "TABLE I. CASES OF SPECIFIED NOTIFIABLE DISEASES: UNITED STATES (Cumulative totals include revised and delayed reports through previous weeks)\n",
            "TABLE I. CASES OF SPECIFIED NOTIFIABLE DISEASES: UNITED STATES (Cumulative totals include revised and delayed reports through previous weeks)\n",
            "____________________________________________________________________________________________________\n",
            "The Tobin tax proposal\n",
            "A inspecao do trabalho\n",
            "____________________________________________________________________________________________________\n",
            "Trade and Economic Development\n",
            "Economic Development in Korea\n",
            "____________________________________________________________________________________________________\n",
            "TABLE I. CASES OF SPECIFIED NOTIFIABLE DISEASES: UNITED STATES (Cumulative totals include revised and delayed reports through previous weeks)\n",
            "TABLE I. CASES OF SPECIFIED NOTIFIABLE DISEASES: UNITED STATES (Cumulative totals include revised and delayed reports through previous weeks)\n",
            "____________________________________________________________________________________________________\n",
            "Handbook of Macroeconomics\n",
            "Handbook of Macroeconomics\n",
            "____________________________________________________________________________________________________\n",
            "Abbreviations and notes\n",
            "List of Abbreviations\n",
            "____________________________________________________________________________________________________\n",
            "Abbreviations and notes\n",
            "List of Abbreviations\n",
            "____________________________________________________________________________________________________\n",
            "[Notifiable Diseases and Mortality Tables]\n",
            "[Notifiable Diseases and Mortality Tables]\n",
            "____________________________________________________________________________________________________\n",
            "[Notifiable Diseases and Mortality Tables]\n",
            "[Notifiable Diseases and Mortality Tables]\n",
            "____________________________________________________________________________________________________\n",
            "List of Abbreviations\n",
            "List of Abbreviations\n",
            "____________________________________________________________________________________________________\n",
            "List of Abbreviations\n",
            "Abbreviations and notes\n",
            "____________________________________________________________________________________________________\n",
            "A inspecao do trabalho\n",
            "The Tobin tax proposal\n",
            "____________________________________________________________________________________________________\n",
            "The Impact of Expectations, Match Importance, and Results in the Stock Prices of European Football Teams\n",
            "The Impact of Expectations, Match Importance, and Results in the Stock Prices of European Football Teams\n",
            "____________________________________________________________________________________________________\n",
            "Adam Smith and Rousseau’s Discourse on Inequality: Inspiration or Provication?\n",
            "Adam Smith and Rousseau's Discourse on Inequality: Inspiration or Provication?\n",
            "____________________________________________________________________________________________________\n",
            "Poland in the European Union Single Market\n",
            "European Unity and the Single Market〔含 解題〕\n",
            "____________________________________________________________________________________________________\n",
            "The Poor Children of the Disintegration\n",
            "The disintegration of the monolith\n",
            "____________________________________________________________________________________________________\n",
            "1221. Mr. Gladstone to Lord Granville\n",
            "285. Mr. Gladstone to Lord Granville\n",
            "____________________________________________________________________________________________________\n",
            "Dishonesty under scrutiny\n",
            "Auto industry cruises on\n",
            "____________________________________________________________________________________________________\n",
            "Current Labor Statistics\n",
            "Current Labor Statistics\n",
            "____________________________________________________________________________________________________\n",
            "European Unity and the Single Market〔含 解題〕\n",
            "Poland in the European Union Single Market\n",
            "____________________________________________________________________________________________________\n",
            "Canada: Demand, output and prices (double-hit scenario)\n",
            "Romania: Demand, output and prices (double-hit scenario)\n",
            "____________________________________________________________________________________________________\n",
            "Tournaments of Weakly Heterogeneous Players\n",
            "Tournaments of weakly heterogeneous players\n",
            "____________________________________________________________________________________________________\n",
            "285. Mr. Gladstone to Lord Granville\n",
            "1221. Mr. Gladstone to Lord Granville\n",
            "____________________________________________________________________________________________________\n",
            "Public sector finance\n",
            "An Abundance of Articles\n",
            "____________________________________________________________________________________________________\n",
            "Foreign Trade and the Money Market\n",
            "The Free Market and Morality\n",
            "____________________________________________________________________________________________________\n",
            "[Notifiable Diseases and Mortality Tables]\n",
            "[Notifiable Diseases and Mortality Tables]\n",
            "____________________________________________________________________________________________________\n",
            "[Notifiable Diseases and Mortality Tables]\n",
            "[Notifiable Diseases and Mortality Tables]\n",
            "____________________________________________________________________________________________________\n",
            "Economic Development in Korea\n",
            "Trade and Economic Development\n",
            "____________________________________________________________________________________________________\n",
            "Social Sector Management\n",
            "Panel Data Econometrics\n",
            "____________________________________________________________________________________________________\n",
            "Current Labor Statistics\n",
            "Current Labor Statistics\n",
            "____________________________________________________________________________________________________\n",
            "An Abundance of Articles\n",
            "Public sector finance\n",
            "____________________________________________________________________________________________________\n",
            "Romania: Demand, output and prices (double-hit scenario)\n",
            "Canada: Demand, output and prices (double-hit scenario)\n",
            "____________________________________________________________________________________________________\n",
            "The disintegration of the monolith\n",
            "The Poor Children of the Disintegration\n",
            "____________________________________________________________________________________________________\n",
            "Handbook of Macroeconomics\n",
            "Handbook of Macroeconomics\n",
            "____________________________________________________________________________________________________\n",
            "Tournaments of weakly heterogeneous players\n",
            "Tournaments of Weakly Heterogeneous Players\n",
            "____________________________________________________________________________________________________\n",
            "[Notifiable Diseases and Mortality Tables]\n",
            "[Notifiable Diseases and Mortality Tables]\n",
            "____________________________________________________________________________________________________\n",
            "[Notifiable Diseases and Mortality Tables]\n",
            "[Notifiable Diseases and Mortality Tables]\n",
            "____________________________________________________________________________________________________\n",
            "Adam Smith and Rousseau's Discourse on Inequality: Inspiration or Provication?\n",
            "Adam Smith and Rousseau’s Discourse on Inequality: Inspiration or Provication?\n",
            "____________________________________________________________________________________________________\n",
            "CPU times: user 38min 9s, sys: 1min 51s, total: 40min\n",
            "Wall time: 39min 20s\n"
          ]
        }
      ]
    },
    {
      "cell_type": "code",
      "source": [
        "%%time\n",
        "from sklearn.neighbors import KDTree\n",
        "tree = KDTree(np.array(vects), leaf_size=10, metric='cityblock')\n"
      ],
      "metadata": {
        "colab": {
          "base_uri": "https://localhost:8080/"
        },
        "id": "9QRZa5nZjHf9",
        "outputId": "2499e0c0-e23b-4979-f6ce-cffb2fc32338"
      },
      "id": "9QRZa5nZjHf9",
      "execution_count": 8,
      "outputs": [
        {
          "output_type": "stream",
          "name": "stdout",
          "text": [
            "CPU times: user 996 ms, sys: 305 ms, total: 1.3 s\n",
            "Wall time: 2.09 s\n"
          ]
        }
      ]
    },
    {
      "cell_type": "code",
      "source": [
        "\n",
        "print(\"===========================\")\n",
        "for i in range(len(vects)):\n",
        "    dist, ind = tree.query(vects[i:i+1], k=3)\n",
        "\n",
        "print(\"===========================\")\n",
        "duplicate_rows = df[df.duplicated(subset='title')]\n",
        "print(duplicate_rows)\n",
        "\n",
        "print(\"===========================\")\n",
        "len(duplicate_rows)/len(df)"
      ],
      "metadata": {
        "colab": {
          "base_uri": "https://localhost:8080/"
        },
        "id": "-FlStCFBjHkZ",
        "outputId": "37a30d45-0ba9-4f69-ba56-8c08d0ef0903"
      },
      "id": "-FlStCFBjHkZ",
      "execution_count": 9,
      "outputs": [
        {
          "output_type": "stream",
          "name": "stdout",
          "text": [
            "===========================\n",
            "===========================\n",
            "                                                      title\n",
            "940876    TABLE I. CASES OF SPECIFIED NOTIFIABLE DISEASE...\n",
            "6369058                               List of Abbreviations\n",
            "5273028                                           EDITORIAL\n",
            "10100962                                          Editorial\n",
            "6359687                                           Editorial\n",
            "803443                                            Editorial\n",
            "1157525   The Impact of Expectations, Match Importance, ...\n",
            "4830403                                        Book Reviews\n",
            "8353434                                           Editorial\n",
            "5234831                                        Book Reviews\n",
            "4256929                                   England and Wales\n",
            "9597596                                           Editorial\n",
            "116553           [Notifiable Diseases and Mortality Tables]\n",
            "152485                             Current Labor Statistics\n",
            "94907                                           Back Matter\n",
            "312628                                              Letters\n",
            "6479032                                   England and Wales\n",
            "2954063                          Handbook of Macroeconomics\n",
            "226296           [Notifiable Diseases and Mortality Tables]\n",
            "===========================\n"
          ]
        },
        {
          "output_type": "execute_result",
          "data": {
            "text/plain": [
              "0.001905717151454363"
            ]
          },
          "metadata": {},
          "execution_count": 9
        }
      ]
    },
    {
      "cell_type": "code",
      "source": [],
      "metadata": {
        "id": "l2GXqMWOrI8A"
      },
      "id": "l2GXqMWOrI8A",
      "execution_count": null,
      "outputs": []
    },
    {
      "cell_type": "markdown",
      "source": [
        "# gridsearch"
      ],
      "metadata": {
        "id": "U8RJGM-5j7cm"
      },
      "id": "U8RJGM-5j7cm"
    },
    {
      "cell_type": "code",
      "source": [
        "from sklearn.model_selection import GridSearchCV\n",
        "\n",
        "param_grid = {\n",
        "    'k': [1, 3, 5, 7],  # Different values for the number of neighbors (K)\n",
        "    'threshold': np.arange(5, 15, 2)  # Range of threshold values\n",
        "}"
      ],
      "metadata": {
        "id": "fcR3OtfQjWr1"
      },
      "id": "fcR3OtfQjWr1",
      "execution_count": null,
      "outputs": []
    },
    {
      "cell_type": "code",
      "source": [
        "def evaluate_knn(vects, k, threshold, tree):\n",
        "  total_similar = 0\n",
        "  for i in range(len(vects)):\n",
        "    dist, ind = tree.query(vects[i:i+1], k=k)\n",
        "    similar_titles = np.where(dist <= threshold)[0]  # Titles within threshold\n",
        "    total_similar += len(similar_titles) - 1  # Exclude itself\n",
        "  return total_similar"
      ],
      "metadata": {
        "id": "w0eAGXB8kAie"
      },
      "id": "w0eAGXB8kAie",
      "execution_count": null,
      "outputs": []
    },
    {
      "cell_type": "code",
      "source": [
        "from sklearn.neighbors import KDTree\n",
        "\n",
        "tree = KDTree(np.array(vects), leaf_size=10, metric='cityblock')\n",
        "knn_model = KDTreeNeighbors(tree)\n",
        "\n",
        "grid_search = GridSearchCV(estimator=knn_model, param_grid=param_grid, scoring=evaluate_knn, cv=5)\n",
        "grid_search.fit(vects, df)\n",
        "\n",
        "best_params = grid_search.best_params_\n",
        "best_score = grid_search.best_score_\n",
        "\n",
        "print(f\"Best parameters: {best_params}\")\n",
        "print(f\"Best score: {best_score}\")"
      ],
      "metadata": {
        "id": "fT_7HQx3kHah"
      },
      "id": "fT_7HQx3kHah",
      "execution_count": null,
      "outputs": []
    },
    {
      "cell_type": "code",
      "source": [],
      "metadata": {
        "id": "CJhPfQQ0qx0l"
      },
      "id": "CJhPfQQ0qx0l",
      "execution_count": null,
      "outputs": []
    },
    {
      "cell_type": "code",
      "source": [],
      "metadata": {
        "id": "_5tWK1IIqx78"
      },
      "id": "_5tWK1IIqx78",
      "execution_count": null,
      "outputs": []
    },
    {
      "cell_type": "code",
      "source": [],
      "metadata": {
        "id": "Xs-HtcWtqx_r"
      },
      "id": "Xs-HtcWtqx_r",
      "execution_count": null,
      "outputs": []
    },
    {
      "cell_type": "code",
      "source": [],
      "metadata": {
        "id": "RFqhcT2ZqyDp"
      },
      "id": "RFqhcT2ZqyDp",
      "execution_count": null,
      "outputs": []
    },
    {
      "cell_type": "code",
      "source": [],
      "metadata": {
        "id": "F6UV3uiJqyHo"
      },
      "id": "F6UV3uiJqyHo",
      "execution_count": null,
      "outputs": []
    }
  ],
  "metadata": {
    "kernelspec": {
      "display_name": "Python 3 (ipykernel)",
      "language": "python",
      "name": "python3"
    },
    "language_info": {
      "codemirror_mode": {
        "name": "ipython",
        "version": 3
      },
      "file_extension": ".py",
      "mimetype": "text/x-python",
      "name": "python",
      "nbconvert_exporter": "python",
      "pygments_lexer": "ipython3",
      "version": "3.8.10"
    },
    "colab": {
      "provenance": [],
      "include_colab_link": true
    }
  },
  "nbformat": 4,
  "nbformat_minor": 5
}