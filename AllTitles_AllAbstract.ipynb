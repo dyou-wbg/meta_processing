{
  "nbformat": 4,
  "nbformat_minor": 0,
  "metadata": {
    "colab": {
      "provenance": [],
      "toc_visible": true,
      "authorship_tag": "ABX9TyN3EjrC+zTucRINXi2XEhqM",
      "include_colab_link": true
    },
    "kernelspec": {
      "name": "python3",
      "display_name": "Python 3"
    },
    "language_info": {
      "name": "python"
    }
  },
  "cells": [
    {
      "cell_type": "markdown",
      "metadata": {
        "id": "view-in-github",
        "colab_type": "text"
      },
      "source": [
        "<a href=\"https://colab.research.google.com/github/dyou-wbg/meta_processing/blob/main/AllTitles_AllAbstract.ipynb\" target=\"_parent\"><img src=\"https://colab.research.google.com/assets/colab-badge.svg\" alt=\"Open In Colab\"/></a>"
      ]
    },
    {
      "cell_type": "code",
      "source": [
        "from google.colab import drive\n",
        "drive.mount('/content/drive')\n",
        "import pandas as pd\n",
        "# as of today\n",
        "import datetime as dt\n",
        "dt.date.today()\n",
        "import os\n",
        "import pandas as pd\n",
        "from google.colab import drive\n",
        "import csv\n",
        "import os\n"
      ],
      "metadata": {
        "id": "aErZBEF0ZoHT",
        "colab": {
          "base_uri": "https://localhost:8080/"
        },
        "outputId": "38cce797-443a-4ac3-8e71-3fb3a7e390a5"
      },
      "execution_count": 1,
      "outputs": [
        {
          "output_type": "stream",
          "name": "stdout",
          "text": [
            "Mounted at /content/drive\n"
          ]
        }
      ]
    },
    {
      "cell_type": "code",
      "source": [
        "directory = '/content/drive/MyDrive/finalMetaFile'\n",
        "\n",
        "df = pd.read_csv(os.path.join(directory, 'scopus_fixed_encoding.csv'))\n",
        "df.rename(columns={\"abstracts\": \"abstract\"}, inplace=True)\n",
        "df.to_csv(os.path.join(directory, 'scopus_fixed_encoding.csv'), index=False)\n",
        "\n",
        "\n",
        "final_file_list = [ 'scopus_fixed_encoding.csv', 'elsevier_metadata.csv',\n",
        "                    'url1_ie_table_complete.csv', 'metadata_econlit.csv']"
      ],
      "metadata": {
        "id": "LsaD88pUCTYl"
      },
      "execution_count": 8,
      "outputs": []
    },
    {
      "cell_type": "code",
      "source": [
        "dataframes = []\n",
        "\n",
        "for filename in final_file_list:\n",
        "    if os.path.isfile(os.path.join(directory, filename)) and filename.endswith(\".csv\"):\n",
        "        df = pd.read_csv(os.path.join(directory, filename))\n",
        "        if \"title\" in df.columns:\n",
        "            df_final = df[['title','abstract']]\n",
        "        elif 'doc_name' in df.columns:\n",
        "            df_final = df[['doc_name','abstract']]\n",
        "        else:\n",
        "            print(f\"Missing required column in file: {filename}\")\n",
        "            continue\n",
        "        dataframes.append(df_final)\n",
        "\n",
        "        total_rows = len(df_final)\n",
        "        rows_with_abstract = df_final['abstract'].notna().sum()\n",
        "        percentage = (rows_with_abstract / total_rows) * 100\n",
        "        print(f\"File: {filename}, Percentage of rows with abstract: {percentage:.2f}%\")\n",
        "\n",
        "combined_df = pd.concat(dataframes, ignore_index=True)\n",
        "combined_df.to_csv('/content/drive/MyDrive/All_titles_abstracts.csv', index=False)\n"
      ],
      "metadata": {
        "colab": {
          "base_uri": "https://localhost:8080/"
        },
        "id": "KCARTBcMKSjF",
        "outputId": "10d96a86-f651-4ac8-f291-cfcc1e535231"
      },
      "execution_count": 11,
      "outputs": [
        {
          "output_type": "stream",
          "name": "stdout",
          "text": [
            "File: scopus_fixed_encoding.csv, Percentage of rows with abstract: 0.00%\n",
            "File: elsevier_metadata.csv, Percentage of rows with abstract: 60.47%\n",
            "File: url1_ie_table_complete.csv, Percentage of rows with abstract: 97.62%\n",
            "File: metadata_econlit.csv, Percentage of rows with abstract: 99.46%\n"
          ]
        }
      ]
    }
  ]
}