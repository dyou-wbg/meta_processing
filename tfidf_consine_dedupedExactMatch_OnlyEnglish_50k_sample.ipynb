{
  "cells": [
    {
      "cell_type": "markdown",
      "metadata": {
        "id": "view-in-github",
        "colab_type": "text"
      },
      "source": [
        "<a href=\"https://colab.research.google.com/github/dyou-wbg/meta_processing/blob/main/tfidf_consine_dedupedExactMatch_OnlyEnglish_50k_sample.ipynb\" target=\"_parent\"><img src=\"https://colab.research.google.com/assets/colab-badge.svg\" alt=\"Open In Colab\"/></a>"
      ]
    },
    {
      "cell_type": "code",
      "execution_count": 1,
      "metadata": {
        "colab": {
          "base_uri": "https://localhost:8080/"
        },
        "id": "14f2d3d6",
        "outputId": "5722df5b-5237-47b1-a5e6-4a95d90a9146"
      },
      "outputs": [
        {
          "output_type": "stream",
          "name": "stdout",
          "text": [
            "Mounted at /content/drive\n"
          ]
        }
      ],
      "source": [
        "from google.colab import drive\n",
        "drive.mount('/content/drive')\n",
        "import pandas as pd\n",
        "from google.colab import drive\n",
        "import csv\n",
        "import os\n",
        "import re\n",
        "import pandas as pd\n",
        "import numpy as np\n",
        "\n",
        "directory = '/content/drive/MyDrive/finalMetaFile'"
      ],
      "id": "14f2d3d6"
    },
    {
      "cell_type": "code",
      "execution_count": 2,
      "metadata": {
        "colab": {
          "base_uri": "https://localhost:8080/"
        },
        "id": "LASHgUrvlSM5",
        "outputId": "1a9829ca-ad76-433f-c30a-2cd20aac7c42"
      },
      "outputs": [
        {
          "output_type": "stream",
          "name": "stderr",
          "text": [
            "<ipython-input-2-1390d13c0cdd>:4: FutureWarning: Passing a negative integer is deprecated in version 1.0 and will not be supported in future version. Instead, use None to not limit the column width.\n",
            "  pd.set_option('display.max_colwidth', -1)\n"
          ]
        }
      ],
      "source": [
        "\n",
        "pd.set_option('display.max_rows', None)\n",
        "pd.set_option('display.max_columns', None)\n",
        "pd.set_option('display.width', None)\n",
        "pd.set_option('display.max_colwidth', -1)\n"
      ],
      "id": "LASHgUrvlSM5"
    },
    {
      "cell_type": "code",
      "source": [
        "df_english_titles = pd.read_csv('/content/drive/MyDrive/finalMetaFile/50k_sample.csv')"
      ],
      "metadata": {
        "id": "79yDKCCx_nVk"
      },
      "id": "79yDKCCx_nVk",
      "execution_count": null,
      "outputs": []
    },
    {
      "cell_type": "code",
      "execution_count": null,
      "metadata": {
        "colab": {
          "base_uri": "https://localhost:8080/"
        },
        "id": "xgzAG-pG2VY6",
        "outputId": "39e62984-5443-4e58-ffad-edf5daad7f38"
      },
      "outputs": [
        {
          "output_type": "execute_result",
          "data": {
            "text/plain": [
              "47526"
            ]
          },
          "metadata": {},
          "execution_count": 15
        }
      ],
      "source": [
        "df_english_titles=df_english_titles[~df_english_titles['title'].str.lower().isin([\"conclusion\", \"poetry\",\"introduction\",\"front matter\",\"editorial\",\"back matter\",\"correspondence\",\"ist of Abbreviations\",\"Book Reviews\",\"Notifiable Diseases and Mortality Tables\"])]\n",
        "len(df_english_titles)"
      ],
      "id": "xgzAG-pG2VY6"
    },
    {
      "cell_type": "code",
      "execution_count": null,
      "metadata": {
        "id": "c0AvW1miCzD1"
      },
      "outputs": [],
      "source": [
        "df_english_titles.to_csv(os.path.join(directory, '50k_sample.csv'), index=False)"
      ],
      "id": "c0AvW1miCzD1"
    },
    {
      "cell_type": "code",
      "source": [
        "len(df_english_titles)/50000"
      ],
      "metadata": {
        "colab": {
          "base_uri": "https://localhost:8080/"
        },
        "id": "V7HxF9IgCDey",
        "outputId": "b1b0aa37-6aaf-476c-b372-3754ab0b9c40"
      },
      "id": "V7HxF9IgCDey",
      "execution_count": null,
      "outputs": [
        {
          "output_type": "execute_result",
          "data": {
            "text/plain": [
              "0.95052"
            ]
          },
          "metadata": {},
          "execution_count": 18
        }
      ]
    },
    {
      "cell_type": "markdown",
      "source": [
        "# from here"
      ],
      "metadata": {
        "id": "H0gwsoMEEI_S"
      },
      "id": "H0gwsoMEEI_S"
    },
    {
      "cell_type": "code",
      "source": [
        "df_english_titles = pd.read_csv('/content/drive/MyDrive/finalMetaFile/50k_sample.csv')"
      ],
      "metadata": {
        "id": "ffm6lx3EEHw5"
      },
      "id": "ffm6lx3EEHw5",
      "execution_count": 3,
      "outputs": []
    },
    {
      "cell_type": "code",
      "source": [
        "df_english_titles['title'] = df_english_titles['title'].str.lower()\n",
        "duplicate_rows = df_english_titles[df_english_titles.duplicated(subset='title')]\n",
        "\n",
        "df_english_titles_temp = df_english_titles.drop(duplicate_rows.index)\n",
        "df_english_titles=df_english_titles_temp"
      ],
      "metadata": {
        "id": "HCv0Qf6bTuM4"
      },
      "id": "HCv0Qf6bTuM4",
      "execution_count": 5,
      "outputs": []
    },
    {
      "cell_type": "code",
      "source": [
        "len(df_english_titles)"
      ],
      "metadata": {
        "colab": {
          "base_uri": "https://localhost:8080/"
        },
        "id": "tEpTtfMXUEnO",
        "outputId": "f6e958fa-edfc-4401-8d3b-d16dbff9ff3e"
      },
      "id": "tEpTtfMXUEnO",
      "execution_count": 6,
      "outputs": [
        {
          "output_type": "execute_result",
          "data": {
            "text/plain": [
              "47377"
            ]
          },
          "metadata": {},
          "execution_count": 6
        }
      ]
    },
    {
      "cell_type": "markdown",
      "source": [
        "# TF-IDF and consine similarity"
      ],
      "metadata": {
        "id": "QKHnHNbSUFcp"
      },
      "id": "QKHnHNbSUFcp"
    },
    {
      "cell_type": "code",
      "source": [
        "%%time\n",
        "from sklearn.feature_extraction.text import TfidfVectorizer\n",
        "from sklearn.metrics.pairwise import cosine_similarity\n",
        "\n",
        "tfidf_vectorizer = TfidfVectorizer()\n",
        "tfidf_matrix = tfidf_vectorizer.fit_transform(df_english_titles['title'])\n",
        "cosine_sim = cosine_similarity(tfidf_matrix, tfidf_matrix)\n",
        "\n",
        "num_titles = len(df_english_titles)\n",
        "for i in range(num_titles):\n",
        "    current_title = df_english_titles.iloc[i]['title']\n",
        "    similarities = cosine_sim[i]\n",
        "\n",
        "    for j in range(num_titles):\n",
        "        if i != j:\n",
        "            other_title = df_english_titles.iloc[j]['title']\n",
        "            similarity_score = similarities[j]\n",
        "\n",
        "\n",
        "            if similarity_score > 0.85  :\n",
        "                print(f\"{current_title} & {other_title} (score: {similarity_score:.4f})\")\n",
        ""
      ],
      "metadata": {
        "colab": {
          "base_uri": "https://localhost:8080/"
        },
        "id": "oNPfXAuuUJFM",
        "outputId": "b9f8c65c-76b9-488d-9d84-588212b93e56"
      },
      "id": "oNPfXAuuUJFM",
      "execution_count": null,
      "outputs": [
        {
          "output_type": "stream",
          "name": "stdout",
          "text": [
            "could the corporations become engines for international cooperation? & could the corporations become engines for international cooperation (score: 1.0000)\n",
            "the institutional economics of foreign aid & the institutional economics of foreign aid: introduction (score: 0.8861)\n",
            "an introduction to the constitution of india & introduction to the constitution of india (score: 0.9566)\n",
            "risk management and financial derivatives: an overview & risk management and financial derivatives:an overview (score: 1.0000)\n",
            "list of abbreviations & list of standard abbreviations (score: 0.8764)\n",
            "international trade and finance & international trade and finance: a review (score: 0.8659)\n",
            "the arrival of fast internet and employment in africa & the arrival of fast internet and employment in africa â  (score: 1.0000)\n",
            "the operation of the export bonus scheme in pakistan's jute and cotton industries. & the operation of the export bonus scheme in pakistan's jute and cotton industries (score: 1.0000)\n",
            "labour and employment & labour and employment in china (score: 0.8516)\n",
            "measuring the dollar–euro permanent equilibrium exchange rate using the unobserved components model & measuring the euro-dollar permanent equilibrium exchange rate using the unobserved components model (score: 1.0000)\n",
            "essays on applied microeconomics & essays in applied microeconomics (score: 0.9645)\n",
            "comments on \"comments on golembiewski vs. ostrom\" & comments on golembiewski vs. ostrom (score: 0.9483)\n",
            "[notifiable diseases and mortality tables] & notifiable diseases and mortality tables (score: 1.0000)\n",
            "asean-eu economic relationship: integration and lessons for the asean economic community & the asean economic community and asean economic integration (score: 0.8660)\n",
            "essays in applied microeconomics & essays on applied microeconomics (score: 0.9645)\n",
            "european union budget & the impact of european union budget (score: 0.8932)\n",
            "notifiable diseases and mortality tables & [notifiable diseases and mortality tables] (score: 1.0000)\n",
            "the process of change & management of the change process (score: 0.8660)\n",
            "the economic effects of the protestant reformation: testing the weber hypothesis in the german lands & cantoni : the economic effects of the protestant reformation : testing the weber hypothesis in the german lands (score: 0.9102)\n",
            "analysis of financial statements & financial statements (score: 0.9110)\n",
            "the good, the bad, and the ugly & the good, the bad and the ugly (score: 1.0000)\n",
            "strategic judgment proofing the harvard community has made this article openly available. please share how this access benefits you. your story matters & a cue-theory of consumption the harvard community has made this article openly available. please share how this access benefits you. your story matters (score: 0.8579)\n",
            "women's rights and development & women's rights (score: 0.8877)\n",
            "membership in employers’ associations and collective bargaining coverage in germany & membership in employers' associations and collective bargaining coverage in germany (score: 1.0000)\n",
            "table iv. deaths in 122 united states cities for week ending march 31. 1973 (by place of occurrence and week of filing certificate. excludes fetal deaths) & table iv. deaths in 122 united states cities for week ending march 10, 1973 (by place of occurrence and week of filing certificate. excludes fetal deaths) (score: 0.9613)\n",
            "the arrival of fast internet and employment in africa â  & the arrival of fast internet and employment in africa (score: 1.0000)\n",
            "introduction to the constitution of india & an introduction to the constitution of india (score: 0.9566)\n",
            "household debt and adult depressive symptoms in the united states & household debt and adult depressive symptoms (score: 0.9115)\n",
            "measuring the euro-dollar permanent equilibrium exchange rate using the unobserved components model & measuring the dollar–euro permanent equilibrium exchange rate using the unobserved components model (score: 1.0000)\n",
            "a political economy of the middle east & the political economy of the middle east (score: 0.9890)\n",
            "comments on golembiewski vs. ostrom & comments on \"comments on golembiewski vs. ostrom\" (score: 0.9483)\n",
            "yes, one-day international cricket 'in-play' trading strategies can be profitable! & yes, one-day international cricket ‘in-play’ trading strategies can be profitable! (score: 1.0000)\n",
            "financial statements & analysis of financial statements (score: 0.9110)\n",
            "management of the change process & the process of change (score: 0.8660)\n",
            "cantoni : the economic effects of the protestant reformation : testing the weber hypothesis in the german lands & the economic effects of the protestant reformation: testing the weber hypothesis in the german lands (score: 0.9102)\n",
            "invited editorial comment & invited editorial (score: 0.8911)\n",
            "labour and employment in china & labour and employment (score: 0.8516)\n",
            "the good, the bad and the ugly & the good, the bad, and the ugly (score: 1.0000)\n",
            "essays in behavioral public economics. & essays in behavioral economics (score: 0.9199)\n",
            "the political economy of the middle east & a political economy of the middle east (score: 0.9890)\n",
            "influenza update — united states & update: influenza activity — united states (score: 0.9077)\n",
            "disclosure, volatility, and transparency: an empirical investigation into the value of bank disclosure & commentary on \"disclosure, volatility, and transparency: an empirical investigation into the value of bank disclosure.\" (score: 0.9376)\n",
            "an expansion of the neoclassical horizon in economics: the rent-seeking research program brings in the nuances of social and political control & an expansion of the neoclassical horizon in economics: the rent–seeking research program brings in the nuances of social and political control (score: 1.0000)\n",
            "yes, one-day international cricket ‘in-play’ trading strategies can be profitable! & yes, one-day international cricket 'in-play' trading strategies can be profitable! (score: 1.0000)\n",
            "women's rights & women's rights and development (score: 0.8877)\n",
            "international trade and finance: a review & international trade and finance (score: 0.8659)\n",
            "saving and economic growth & economic growth and saving theory (score: 0.8760)\n",
            "update: influenza activity — united states & influenza update — united states (score: 0.9077)\n",
            "table iv. deaths in 122 united states cities for week ending march 10, 1973 (by place of occurrence and week of filing certificate. excludes fetal deaths) & table iv. deaths in 122 united states cities for week ending march 31. 1973 (by place of occurrence and week of filing certificate. excludes fetal deaths) (score: 0.9613)\n",
            "time-series analysis & empirical analysis of time series (score: 0.8689)\n",
            "economic growth and saving theory & saving and economic growth (score: 0.8760)\n",
            "wealth and income & income and wealth (score: 1.0000)\n",
            "invited editorial & invited editorial comment (score: 0.8911)\n",
            "the impact of european union budget & european union budget (score: 0.8932)\n",
            "income and wealth & wealth and income (score: 1.0000)\n",
            "could the corporations become engines for international cooperation & could the corporations become engines for international cooperation? (score: 1.0000)\n",
            "a cue-theory of consumption the harvard community has made this article openly available. please share how this access benefits you. your story matters & strategic judgment proofing the harvard community has made this article openly available. please share how this access benefits you. your story matters (score: 0.8579)\n",
            "commentary on \"disclosure, volatility, and transparency: an empirical investigation into the value of bank disclosure.\" & disclosure, volatility, and transparency: an empirical investigation into the value of bank disclosure (score: 0.9376)\n",
            "‘poverty, equity and growth in developing and transition countries: statistical methods and empirical analysis’ & ‘ poverty , equity and growth in developing and transition countries : statistical methods and empirical analysis (score: 1.0000)\n",
            "household debt and adult depressive symptoms & household debt and adult depressive symptoms in the united states (score: 0.9115)\n",
            "the operation of the export bonus scheme in pakistan's jute and cotton industries & the operation of the export bonus scheme in pakistan's jute and cotton industries. (score: 1.0000)\n",
            "empirical analysis of time series & time-series analysis (score: 0.8689)\n",
            "the institutional economics of foreign aid: introduction & the institutional economics of foreign aid (score: 0.8861)\n",
            "‘ poverty , equity and growth in developing and transition countries : statistical methods and empirical analysis & ‘poverty, equity and growth in developing and transition countries: statistical methods and empirical analysis’ (score: 1.0000)\n",
            "the asean economic community and asean economic integration & asean-eu economic relationship: integration and lessons for the asean economic community (score: 0.8660)\n",
            "an expansion of the neoclassical horizon in economics: the rent–seeking research program brings in the nuances of social and political control & an expansion of the neoclassical horizon in economics: the rent-seeking research program brings in the nuances of social and political control (score: 1.0000)\n",
            "membership in employers' associations and collective bargaining coverage in germany & membership in employers’ associations and collective bargaining coverage in germany (score: 1.0000)\n",
            "decomposing the great trade collapse : products, prices, and quantities in the 2008-2009 crisis & decomposing the great trade collapse: products, prices, and quantities in the 2008-2009 crisis (score: 1.0000)\n",
            "risk management and financial derivatives:an overview & risk management and financial derivatives: an overview (score: 1.0000)\n",
            "decomposing the great trade collapse: products, prices, and quantities in the 2008-2009 crisis & decomposing the great trade collapse : products, prices, and quantities in the 2008-2009 crisis (score: 1.0000)\n",
            "essays in behavioral economics & essays in behavioral public economics. (score: 0.9199)\n",
            "list of standard abbreviations & list of abbreviations (score: 0.8764)\n"
          ]
        }
      ]
    }
  ],
  "metadata": {
    "colab": {
      "machine_shape": "hm",
      "provenance": [],
      "toc_visible": true,
      "include_colab_link": true
    },
    "kernelspec": {
      "display_name": "Python 3 (ipykernel)",
      "language": "python",
      "name": "python3"
    },
    "language_info": {
      "codemirror_mode": {
        "name": "ipython",
        "version": 3
      },
      "file_extension": ".py",
      "mimetype": "text/x-python",
      "name": "python",
      "nbconvert_exporter": "python",
      "pygments_lexer": "ipython3",
      "version": "3.8.10"
    }
  },
  "nbformat": 4,
  "nbformat_minor": 5
}