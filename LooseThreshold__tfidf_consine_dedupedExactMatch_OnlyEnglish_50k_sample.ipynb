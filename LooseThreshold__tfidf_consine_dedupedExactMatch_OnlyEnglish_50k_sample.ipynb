{
  "cells": [
    {
      "cell_type": "markdown",
      "metadata": {
        "id": "view-in-github",
        "colab_type": "text"
      },
      "source": [
        "<a href=\"https://colab.research.google.com/github/dyou-wbg/meta_processing/blob/main/LooseThreshold__tfidf_consine_dedupedExactMatch_OnlyEnglish_50k_sample.ipynb\" target=\"_parent\"><img src=\"https://colab.research.google.com/assets/colab-badge.svg\" alt=\"Open In Colab\"/></a>"
      ]
    },
    {
      "cell_type": "code",
      "execution_count": 1,
      "id": "14f2d3d6",
      "metadata": {
        "colab": {
          "base_uri": "https://localhost:8080/"
        },
        "id": "14f2d3d6",
        "outputId": "bb632c0b-ca9c-4836-f10a-1a88e118a6a5"
      },
      "outputs": [
        {
          "output_type": "stream",
          "name": "stdout",
          "text": [
            "Mounted at /content/drive\n"
          ]
        }
      ],
      "source": [
        "from google.colab import drive\n",
        "drive.mount('/content/drive')\n",
        "import pandas as pd\n",
        "from google.colab import drive\n",
        "import csv\n",
        "import os\n",
        "import re\n",
        "import pandas as pd\n",
        "import numpy as np\n",
        "\n",
        "directory = '/content/drive/MyDrive/finalMetaFile'"
      ]
    },
    {
      "cell_type": "code",
      "execution_count": 2,
      "id": "LASHgUrvlSM5",
      "metadata": {
        "colab": {
          "base_uri": "https://localhost:8080/"
        },
        "id": "LASHgUrvlSM5",
        "outputId": "b3221fa7-66c7-4fc6-c6a4-66c9f31c4c71"
      },
      "outputs": [
        {
          "output_type": "stream",
          "name": "stderr",
          "text": [
            "<ipython-input-2-1390d13c0cdd>:4: FutureWarning: Passing a negative integer is deprecated in version 1.0 and will not be supported in future version. Instead, use None to not limit the column width.\n",
            "  pd.set_option('display.max_colwidth', -1)\n"
          ]
        }
      ],
      "source": [
        "\n",
        "pd.set_option('display.max_rows', None)\n",
        "pd.set_option('display.max_columns', None)\n",
        "pd.set_option('display.width', None)\n",
        "pd.set_option('display.max_colwidth', -1)\n"
      ]
    },
    {
      "cell_type": "code",
      "execution_count": null,
      "id": "79yDKCCx_nVk",
      "metadata": {
        "id": "79yDKCCx_nVk"
      },
      "outputs": [],
      "source": [
        "df_english_titles = pd.read_csv('/content/drive/MyDrive/finalMetaFile/50k_sample.csv')"
      ]
    },
    {
      "cell_type": "code",
      "execution_count": null,
      "id": "xgzAG-pG2VY6",
      "metadata": {
        "colab": {
          "base_uri": "https://localhost:8080/"
        },
        "id": "xgzAG-pG2VY6",
        "outputId": "39e62984-5443-4e58-ffad-edf5daad7f38"
      },
      "outputs": [
        {
          "data": {
            "text/plain": [
              "47526"
            ]
          },
          "execution_count": 15,
          "metadata": {},
          "output_type": "execute_result"
        }
      ],
      "source": [
        "df_english_titles=df_english_titles[~df_english_titles['title'].str.lower().isin([\"conclusion\", \"poetry\",\"introduction\",\"front matter\",\"editorial\",\"back matter\",\"correspondence\",\"ist of Abbreviations\",\"Book Reviews\",\"Notifiable Diseases and Mortality Tables\"])]\n",
        "len(df_english_titles)"
      ]
    },
    {
      "cell_type": "code",
      "execution_count": null,
      "id": "c0AvW1miCzD1",
      "metadata": {
        "id": "c0AvW1miCzD1"
      },
      "outputs": [],
      "source": [
        "df_english_titles.to_csv(os.path.join(directory, '50k_sample.csv'), index=False)"
      ]
    },
    {
      "cell_type": "code",
      "execution_count": null,
      "id": "V7HxF9IgCDey",
      "metadata": {
        "colab": {
          "base_uri": "https://localhost:8080/"
        },
        "id": "V7HxF9IgCDey",
        "outputId": "b1b0aa37-6aaf-476c-b372-3754ab0b9c40"
      },
      "outputs": [
        {
          "data": {
            "text/plain": [
              "0.95052"
            ]
          },
          "execution_count": 18,
          "metadata": {},
          "output_type": "execute_result"
        }
      ],
      "source": [
        "len(df_english_titles)/50000"
      ]
    },
    {
      "cell_type": "markdown",
      "id": "H0gwsoMEEI_S",
      "metadata": {
        "id": "H0gwsoMEEI_S"
      },
      "source": [
        "# from here"
      ]
    },
    {
      "cell_type": "code",
      "execution_count": 3,
      "id": "ffm6lx3EEHw5",
      "metadata": {
        "id": "ffm6lx3EEHw5"
      },
      "outputs": [],
      "source": [
        "df_english_titles = pd.read_csv('/content/drive/MyDrive/finalMetaFile/50k_sample.csv')"
      ]
    },
    {
      "cell_type": "code",
      "execution_count": 4,
      "id": "HCv0Qf6bTuM4",
      "metadata": {
        "id": "HCv0Qf6bTuM4"
      },
      "outputs": [],
      "source": [
        "df_english_titles['title'] = df_english_titles['title'].str.lower()\n",
        "duplicate_rows = df_english_titles[df_english_titles.duplicated(subset='title')]\n",
        "\n",
        "df_english_titles_temp = df_english_titles.drop(duplicate_rows.index)\n",
        "df_english_titles=df_english_titles_temp"
      ]
    },
    {
      "cell_type": "code",
      "execution_count": 5,
      "id": "tEpTtfMXUEnO",
      "metadata": {
        "colab": {
          "base_uri": "https://localhost:8080/"
        },
        "id": "tEpTtfMXUEnO",
        "outputId": "f92856d5-16c4-44d5-ced0-48bb046dfdff"
      },
      "outputs": [
        {
          "output_type": "execute_result",
          "data": {
            "text/plain": [
              "47377"
            ]
          },
          "metadata": {},
          "execution_count": 5
        }
      ],
      "source": [
        "len(df_english_titles)"
      ]
    },
    {
      "cell_type": "markdown",
      "id": "QKHnHNbSUFcp",
      "metadata": {
        "id": "QKHnHNbSUFcp"
      },
      "source": [
        "# TF-IDF and consine similarity"
      ]
    },
    {
      "cell_type": "code",
      "execution_count": null,
      "id": "oNPfXAuuUJFM",
      "metadata": {
        "colab": {
          "base_uri": "https://localhost:8080/"
        },
        "id": "oNPfXAuuUJFM",
        "outputId": "f7ed8374-ae38-4e17-b244-70dab7a68a54"
      },
      "outputs": [
        {
          "metadata": {
            "tags": null
          },
          "name": "stdout",
          "output_type": "stream",
          "text": [
            "inequality & income inequality (score: 0.7524)\n",
            "how does country risk matter for foreign direct investment? & country risk and foreign direct investment (score: 0.7534)\n",
            "editor's introduction & guest editor's introduction (score: 0.7580)\n",
            "could the corporations become engines for international cooperation? & could the corporations become engines for international cooperation (score: 1.0000)\n",
            "pengaruh profitabilitas, struktur aktiva, dan ukuran perusahaan terhadap struktur modal & pengaruh profitabilitas, pertumbuhan, struktur aktiva dan ukuran perusahaan terhadap struktur modal ( pada perusahaan property dan real estate yang terdaftar di bei) (score: 0.8089)\n",
            "labour costs and employment policy & labour and employment (score: 0.7501)\n",
            "the institutional economics of foreign aid & the institutional economics of foreign aid: introduction (score: 0.8861)\n",
            "a valuation model for credit default swaps & credit default swaps (score: 0.8274)\n",
            "an introduction to the constitution of india & introduction to the constitution of india (score: 0.9566)\n",
            "notes on contributors & contributors (score: 0.7732)\n",
            "form 24—notice of examination before the official receiver (corporation) —for persons to which the 2009 amendments do not apply & form 25—notice of examination before the official receiver (individual bankrupt) —for persons to which the 2009 amendments do not apply (score: 0.8208)\n",
            "gender and sustainable development & gender and development (score: 0.8054)\n",
            "book reviews & reviews (score: 0.7853)\n",
            "risk management and financial derivatives: an overview & risk management and financial derivatives:an overview (score: 1.0000)\n",
            "managing asymmetric conflict & on asymmetric conflict (score: 0.7752)\n",
            "ex post and ex ante analysis of provisional data & cooperation in r & d ex ante and ex post (score: 0.8045)\n",
            "economic development and growth: a survey & 5 development and economic growth (score: 0.7790)\n",
            "modern construction economics: theory and application & modern construction economics (score: 0.7913)\n",
            "essays on international trade and migration & essays on china's international trade (score: 0.7667)\n",
            "list of abbreviations & list of abbreviations 305 (score: 0.7774)\n",
            "list of abbreviations & list of standard abbreviations (score: 0.8764)\n",
            "international trade and finance & international trade and finance: a review (score: 0.8659)\n",
            "what is property tax reform & property tax reform (score: 0.7920)\n",
            "problems of developing countries & agricultural problems of developing countries in africa (score: 0.7738)\n",
            "problems of developing countries & commodity problems of developing countries (score: 0.8128)\n",
            "front matter and preface to \"business incorporations in the united states, 1800-1943\" & business incorporations in the united states, 1800–1943 (score: 0.7835)\n",
            "the arrival of fast internet and employment in africa & the arrival of fast internet and employment in africa â  (score: 1.0000)\n",
            "5 development and economic growth & economic development and growth: a survey (score: 0.7790)\n",
            "5 development and economic growth & economic growth and human development (score: 0.7881)\n",
            "provisional information on selected notifiable diseases in the united states and on deaths in selected cities for week ended august 27, 1960 & provisional information on selected notifiable diseases in the united states and on deaths in selected cities for week ended july 6, 1963 (score: 0.8150)\n",
            "income inequality and trade & income inequality (score: 0.8407)\n",
            "the operation of the export bonus scheme in pakistan's jute and cotton industries. & the operation of the export bonus scheme in pakistan's jute and cotton industries (score: 1.0000)\n",
            "exchange rate policy and real exchange rate changes in economic transition & real exchange rate and exchange rate policy in hungary (score: 0.7988)\n",
            "foreign direct investment positions by country: belgium & foreign direct investment positions by country: hungary (score: 0.7819)\n",
            "latin america & latin america in the international economy (score: 0.7874)\n",
            "latin america & private wealth and public revenue in latin america: latin america’s tax problem (score: 0.7755)\n",
            "labour and employment & labour costs and employment policy (score: 0.7501)\n",
            "labour and employment & labour and employment in china (score: 0.8516)\n",
            "uncertainty shocks and the relative price of investment goods & investment shocks and the relative price of investment (score: 0.7683)\n",
            "country risk and foreign direct investment & how does country risk matter for foreign direct investment? (score: 0.7534)\n",
            "malawi & rural development in malawi (score: 0.7739)\n",
            "the \"dobrescu macromodel\" of the romanian market economy - 2005 version yearly forecast - autumn forecast 2009 & the \"dobrescu macromodel\" of the romanian market economy - 2005 version - yearly forecast – summer forecast for 2010 (score: 0.8427)\n",
            "measuring the dollar–euro permanent equilibrium exchange rate using the unobserved components model & measuring the euro-dollar permanent equilibrium exchange rate using the unobserved components model (score: 1.0000)\n",
            "the effect of return on equity, earning per share and price earning ratio on stock prices & the impact of earning per share and return on equity on stock price (score: 0.8402)\n",
            "essays on applied microeconomics & essays in applied microeconomics (score: 0.9645)\n",
            "job creation, job destruction, and the real exchange rate & the geography of job creation and job destruction (score: 0.8041)\n",
            "comments on \"comments on golembiewski vs. ostrom\" & comments on golembiewski vs. ostrom (score: 0.9483)\n",
            "business incorporations in the united states, 1800–1943 & front matter and preface to \"business incorporations in the united states, 1800-1943\" (score: 0.7835)\n",
            "[notifiable diseases and mortality tables] & notifiable diseases and mortality tables (score: 1.0000)\n",
            "philosophy of ecological economics & philosophy of economics (score: 0.8230)\n",
            "asean-eu economic relationship: integration and lessons for the asean economic community & the asean economic community and asean economic integration (score: 0.8660)\n",
            "land inequality and conflict in sub-saharan africa & poverty and inequality in sub-saharan africa (score: 0.7540)\n",
            "the geography of job creation and job destruction & job creation, job destruction, and the real exchange rate (score: 0.8041)\n",
            "essays in applied microeconomics & essays on applied microeconomics (score: 0.9645)\n",
            "notes & book notes (score: 0.7693)\n",
            "notes & international notes (score: 0.8419)\n",
            "letters & the empirical economics letters (score: 0.7912)\n",
            "international migration & the international-migration network (score: 0.7748)\n",
            "on asymmetric conflict & managing asymmetric conflict (score: 0.7752)\n",
            "european union budget & the impact of european union budget (score: 0.8932)\n",
            "shocks and labour cost adjustment: evidence from a survey of european firms & the margins of labour cost adjustment: survey evidence from european firms (score: 0.7919)\n",
            "notifiable diseases and mortality tables & [notifiable diseases and mortality tables] (score: 1.0000)\n",
            "analysis on the issue of the trade and environment in international environment law & international trade and the environment (score: 0.7655)\n",
            "the process of change & management of the change process (score: 0.8660)\n",
            "the economic effects of the protestant reformation: testing the weber hypothesis in the german lands & cantoni : the economic effects of the protestant reformation : testing the weber hypothesis in the german lands (score: 0.9102)\n",
            "infrastructure and poverty in sub-saharan africa: a review & poverty and inequality in sub-saharan africa (score: 0.7564)\n",
            "property and casualty insurance. 1949 & property and casualty insurance (score: 0.8271)\n",
            "the classical approach to capital accumulation : classical theory of economic growth & the classical theory of economic growth (score: 0.8074)\n",
            "analysis of financial statements & financial statements (score: 0.9110)\n",
            "pengaruh right issue terhadap kinerja keuangan pada perusahaan yang terdaftar di bursa efek indonesia & pengaruh kinerja keuangan terhadap harga saham perusahaan perbankan yang terdaftar di bursa efek indonesia (score: 0.7636)\n",
            "pengaruh right issue terhadap kinerja keuangan pada perusahaan yang terdaftar di bursa efek indonesia & pengaruh intellectual capital terhadap kinerja perusahaan yang terdaftar di bursa efek indonesia (score: 0.7820)\n",
            "list of abbreviations 305 & list of abbreviations (score: 0.7774)\n",
            "the good, the bad, and the ugly & the good, the bad and the ugly (score: 1.0000)\n",
            "strategic judgment proofing the harvard community has made this article openly available. please share how this access benefits you. your story matters & a cue-theory of consumption the harvard community has made this article openly available. please share how this access benefits you. your story matters (score: 0.8579)\n",
            "women's rights and development & women's rights (score: 0.8877)\n",
            "membership in employers’ associations and collective bargaining coverage in germany & membership in employers' associations and collective bargaining coverage in germany (score: 1.0000)\n",
            "table iv. deaths in 122 united states cities for week ending march 31. 1973 (by place of occurrence and week of filing certificate. excludes fetal deaths) & table iv. deaths in 122 united states cities for week ending march 10, 1973 (by place of occurrence and week of filing certificate. excludes fetal deaths) (score: 0.9613)\n",
            "foreign direct r&d investment in the united states & foreign direct investment in the united states new investment in 2001 (score: 0.8291)\n",
            "agricultural problems of developing countries in africa & problems of developing countries (score: 0.7738)\n",
            "australia and southeast asia in the global balance & australia and southeast asia (score: 0.7978)\n",
            "rates of industrial growth during the industrial revolution & the industrial revolution (score: 0.7528)\n",
            "the money supply & keynes on money supply -endogenous money supply vs. exogenous money supply- (score: 0.8197)\n",
            "references & working for references (score: 0.8080)\n",
            "the arrival of fast internet and employment in africa â  & the arrival of fast internet and employment in africa (score: 1.0000)\n",
            "book notes & notes (score: 0.7693)\n",
            "introduction to the constitution of india & an introduction to the constitution of india (score: 0.9566)\n",
            "chinese capitalism and economic integration in southeast asia & the economic integration in southeast asia (score: 0.7793)\n",
            "55. mr. gladstone to lord granville & 823. mr. gladstone to lord granville (score: 0.7891)\n",
            "household debt and adult depressive symptoms in the united states & household debt and adult depressive symptoms (score: 0.9115)\n",
            "property and casualty insurance & property and casualty insurance. 1949 (score: 0.8271)\n",
            "economic growth, exclusion and human development & economic growth and human development (score: 0.7565)\n",
            "provisional information on selected notifiable diseases in the united states and on deaths in selected cities for week ended july 6, 1963 & provisional information on selected notifiable diseases in the united states and on deaths in selected cities for week ended august 27, 1960 (score: 0.8150)\n",
            "the industrial revolution & rates of industrial growth during the industrial revolution (score: 0.7528)\n",
            "the industrial revolution & the first industrial revolution. (score: 0.8092)\n",
            "property tax reform & what is property tax reform (score: 0.7920)\n",
            "los angeles county subsidy & in los angeles county (score: 0.8459)\n",
            "measuring the euro-dollar permanent equilibrium exchange rate using the unobserved components model & measuring the dollar–euro permanent equilibrium exchange rate using the unobserved components model (score: 1.0000)\n",
            "a political economy of the middle east & the political economy of the middle east (score: 0.9890)\n",
            "comments on golembiewski vs. ostrom & comments on \"comments on golembiewski vs. ostrom\" (score: 0.9483)\n",
            "chapter ii. the world economy & chapter ii (score: 0.7965)\n",
            "foreign direct investment positions by country: hungary & foreign direct investment positions by country: belgium (score: 0.7819)\n",
            "yes, one-day international cricket 'in-play' trading strategies can be profitable! & yes, one-day international cricket ‘in-play’ trading strategies can be profitable! (score: 1.0000)\n",
            "financial statements & analysis of financial statements (score: 0.9110)\n",
            "financial statements & group financial statements (score: 0.8210)\n",
            "heterogeneous beliefs,corporate financing and investment return & corporate financing under heterogeneous beliefs (score: 0.7986)\n",
            "from wealth of oil to wealth of health care. & health and wealth (score: 0.7597)\n",
            "financing health care & health care financing, efficiency, and equity (score: 0.7722)\n",
            "the empirical economics letters & letters (score: 0.7912)\n",
            "latin america in the international economy & latin america (score: 0.7874)\n",
            "short-term interest-rate derivatives & a short term interest rate model (score: 0.7850)\n",
            "a theory of the welfare state & state of welfare (score: 0.8202)\n",
            "management of the change process & the process of change (score: 0.8660)\n",
            "the youth unemployment crisis & global youth unemployment (score: 0.7589)\n",
            "religion and global affairs: political challenges & religion and global affairs: the role of religion in development (score: 0.7582)\n",
            "cantoni : the economic effects of the protestant reformation : testing the weber hypothesis in the german lands & the economic effects of the protestant reformation: testing the weber hypothesis in the german lands (score: 0.9102)\n",
            "managing interest rate risk & interest rate risk (score: 0.7988)\n",
            "the post-apartheid south african labour market & the gender wage gap in the post-apartheid south african labour market (score: 0.8187)\n",
            "cooperation in r & d ex ante and ex post & ex post and ex ante analysis of provisional data (score: 0.8045)\n",
            "endogenous market structures and labour market dynamics & endogenous market structures (score: 0.8066)\n",
            "modern construction economics & modern construction economics: theory and application (score: 0.7913)\n",
            "table dp-1. profile of general demographic characteristics: 2000 geographic area: heber city, utah & table dp-1. profile of general demographic characteristics: 2000 geographic area: iowa (score: 0.7581)\n",
            "theory and practice of model risk management & understanding risk: the theory and practice of financial risk management (score: 0.7572)\n",
            "calendar anomalies: a survey of the literature & calendar market anomalies (score: 0.7591)\n",
            "investment shocks and the relative price of investment & uncertainty shocks and the relative price of investment goods (score: 0.7683)\n",
            "invited editorial comment & invited editorial (score: 0.8911)\n",
            "labour and employment in china & labour and employment (score: 0.8516)\n",
            "international law and relations & the contribution of international law to international relations (score: 0.7826)\n",
            "the gender wage gap in the post-apartheid south african labour market & the post-apartheid south african labour market (score: 0.8187)\n",
            "gender, population and development & gender and development (score: 0.7729)\n",
            "poverty and inequality & globalization, poverty and inequality (score: 0.7867)\n",
            "guest editor's introduction & editor's introduction (score: 0.7580)\n",
            "introduction to time series analysis & time-series analysis (score: 0.8013)\n",
            "chapter ii & chapter ii. the world economy (score: 0.7965)\n",
            "inflation targeting and fear of floating & inflation targeting, exchange rate pass-through and 'fear of floating' (score: 0.7799)\n",
            "the good, the bad and the ugly & the good, the bad, and the ugly (score: 1.0000)\n",
            "analisis pembentukan portofolio optimal dengan menggunakan model indeks tunggal (studi pada saham jakarta islamic index (jii) periode 2011-2013) & pembentukan portofolio optimal dengan model indeks tunggal (studi pada saham-saham jakarta islamic index periode 2007-2009) (score: 0.7911)\n",
            "the international-migration network & international migration (score: 0.7748)\n",
            "real exchange rate and exchange rate policy in hungary & exchange rate policy and real exchange rate changes in economic transition (score: 0.7988)\n",
            "pengaruh kinerja keuangan terhadap harga saham perusahaan perbankan yang terdaftar di bursa efek indonesia & pengaruh right issue terhadap kinerja keuangan pada perusahaan yang terdaftar di bursa efek indonesia (score: 0.7636)\n",
            "pengaruh kinerja keuangan terhadap harga saham perusahaan perbankan yang terdaftar di bursa efek indonesia & pengaruh intellectual capital terhadap kinerja perusahaan yang terdaftar di bursa efek indonesia (score: 0.7536)\n",
            "globalization, poverty and inequality & poverty and inequality (score: 0.7867)\n",
            "health care financing, efficiency, and equity & financing health care (score: 0.7722)\n",
            "a short term interest rate model & short-term interest-rate derivatives (score: 0.7850)\n",
            "pengaruh profitabilitas, aktiva berwujud, ukuran perusahaan, pertumbuhan dan umur perusahaan terhadap struktur modal perusahaan (studi empiris pada perusahaan properti dan real estate yang terdaftar di bursa efek indonesia) & pengaruh ukuran perusahaan, likuiditas dan profitabilitas terhadap struktur modal perusahaan (studi empiris pada perusahaan real estate yang terdaftar di bei tahun 2017) (score: 0.7659)\n",
            "pengaruh profitabilitas, aktiva berwujud, ukuran perusahaan, pertumbuhan dan umur perusahaan terhadap struktur modal perusahaan (studi empiris pada perusahaan properti dan real estate yang terdaftar di bursa efek indonesia) & pengaruh profitabilitas, pertumbuhan, struktur aktiva dan ukuran perusahaan terhadap struktur modal ( pada perusahaan property dan real estate yang terdaftar di bei) (score: 0.7681)\n",
            "global youth unemployment & the youth unemployment crisis (score: 0.7589)\n",
            "essays in behavioral public economics. & essays in behavioral economics (score: 0.9199)\n",
            "money, wealth and economic theory & money and wealth (score: 0.8252)\n",
            "the political economy of the middle east & a political economy of the middle east (score: 0.9890)\n",
            "rural development in malawi & malawi (score: 0.7739)\n",
            "the impact of earning per share and return on equity on stock price & the effect of return on equity, earning per share and price earning ratio on stock prices (score: 0.8402)\n",
            "public-private partnerships for market development & the economics of public-private partnerships (score: 0.7505)\n",
            "influenza update — united states & update: influenza activity — united states (score: 0.9077)\n",
            "the first industrial revolution. & the industrial revolution (score: 0.8092)\n",
            "disclosure, volatility, and transparency: an empirical investigation into the value of bank disclosure & commentary on \"disclosure, volatility, and transparency: an empirical investigation into the value of bank disclosure.\" (score: 0.9376)\n",
            "poverty and inequality in sub-saharan africa & land inequality and conflict in sub-saharan africa (score: 0.7540)\n",
            "poverty and inequality in sub-saharan africa & infrastructure and poverty in sub-saharan africa: a review (score: 0.7564)\n",
            "an expansion of the neoclassical horizon in economics: the rent-seeking research program brings in the nuances of social and political control & an expansion of the neoclassical horizon in economics: the rent–seeking research program brings in the nuances of social and political control (score: 1.0000)\n",
            "yes, one-day international cricket ‘in-play’ trading strategies can be profitable! & yes, one-day international cricket 'in-play' trading strategies can be profitable! (score: 1.0000)\n",
            "pengaruh intellectual capital terhadap kinerja perusahaan yang terdaftar di bursa efek indonesia & pengaruh right issue terhadap kinerja keuangan pada perusahaan yang terdaftar di bursa efek indonesia (score: 0.7820)\n",
            "pengaruh intellectual capital terhadap kinerja perusahaan yang terdaftar di bursa efek indonesia & pengaruh kinerja keuangan terhadap harga saham perusahaan perbankan yang terdaftar di bursa efek indonesia (score: 0.7536)\n",
            "women's rights & women's rights and development (score: 0.8877)\n",
            "table dp-1. profile of general demographic characteristics: 2000 geographic area: colby city, kansas & table dp-1. profile of general demographic characteristics: 2000 geographic area: iowa (score: 0.7564)\n",
            "glossary of common words & glossary of japanese words (score: 0.7954)\n",
            "international notes & notes (score: 0.8419)\n",
            "international trade and finance: a review & international trade and finance (score: 0.8659)\n",
            "the margins of labour cost adjustment: survey evidence from european firms & shocks and labour cost adjustment: evidence from a survey of european firms (score: 0.7919)\n",
            "inflation targeting, exchange rate pass-through and 'fear of floating' & inflation targeting and fear of floating (score: 0.7799)\n",
            "saving and economic growth & economic growth and saving theory (score: 0.8760)\n",
            "update: influenza activity — united states & influenza update — united states (score: 0.9077)\n",
            "table iv. deaths in 122 united states cities for week ending march 10, 1973 (by place of occurrence and week of filing certificate. excludes fetal deaths) & table iv. deaths in 122 united states cities for week ending march 31. 1973 (by place of occurrence and week of filing certificate. excludes fetal deaths) (score: 0.9613)\n",
            "interest rate risk & managing interest rate risk (score: 0.7988)\n",
            "time-series analysis & introduction to time series analysis (score: 0.8013)\n",
            "time-series analysis & empirical analysis of time series (score: 0.8689)\n",
            "economic growth and saving theory & saving and economic growth (score: 0.8760)\n",
            "the classical theory of economic growth & the classical approach to capital accumulation : classical theory of economic growth (score: 0.8074)\n",
            "endogenous market structures & endogenous market structures and labour market dynamics (score: 0.8066)\n",
            "wealth and income & income and wealth (score: 1.0000)\n",
            "earnings management of firms reporting material internal control weaknesses under section 404 of the sarbanes-oxley act & characteristics of firms with material weaknesses in internal control: an assessment of section 404 of sarbanes oxley (score: 0.8077)\n",
            "australia and southeast asia & australia and southeast asia in the global balance (score: 0.7978)\n",
            "australia and southeast asia & handbook of markets and economies: east asia, southeast asia, australia, new zealand : east asia, southeast asia, australia, new zealand (score: 0.7511)\n",
            "gazetteer of markets and fairs to 1516: basic introduction & gazetteer of markets and fairs to 1516: staffordshire (score: 0.7814)\n",
            "the economic integration in southeast asia & chinese capitalism and economic integration in southeast asia (score: 0.7793)\n",
            "foreign direct investment in the united states new investment in 2001 & foreign direct r&d investment in the united states (score: 0.8291)\n",
            "invited editorial & invited editorial comment (score: 0.8911)\n",
            "keynes on money supply -endogenous money supply vs. exogenous money supply- & the money supply (score: 0.8197)\n",
            "823. mr. gladstone to lord granville & 55. mr. gladstone to lord granville (score: 0.7891)\n",
            "characteristics of firms with material weaknesses in internal control: an assessment of section 404 of sarbanes oxley & earnings management of firms reporting material internal control weaknesses under section 404 of the sarbanes-oxley act (score: 0.8077)\n",
            "the impact of european union budget & european union budget (score: 0.8932)\n",
            "group financial statements & financial statements (score: 0.8210)\n",
            "comparative welfare state politics: welfare state regimes & state of welfare (score: 0.7798)\n",
            "gazetteer of markets and fairs to 1516: staffordshire & gazetteer of markets and fairs to 1516: basic introduction (score: 0.7814)\n",
            "income and wealth & wealth and income (score: 1.0000)\n",
            "religion and global affairs: the role of religion in development & religion and global affairs: political challenges (score: 0.7582)\n",
            "book review: mathematics of retail merchandising & book review: retail marketing and merchandising (score: 0.7715)\n",
            "glossary of japanese words & glossary of common words (score: 0.7954)\n",
            "gender and development & gender and sustainable development (score: 0.8054)\n",
            "gender and development & gender, population and development (score: 0.7729)\n",
            "could the corporations become engines for international cooperation & could the corporations become engines for international cooperation? (score: 1.0000)\n",
            "in los angeles county & los angeles county subsidy (score: 0.8459)\n",
            "the economics of public-private partnerships & public-private partnerships for market development (score: 0.7505)\n",
            "the contribution of international law to international relations & international law and relations (score: 0.7826)\n",
            "health and wealth & from wealth of oil to wealth of health care. (score: 0.7597)\n",
            "state of welfare & a theory of the welfare state (score: 0.8202)\n",
            "state of welfare & comparative welfare state politics: welfare state regimes (score: 0.7798)\n",
            "reviews & book reviews (score: 0.7853)\n",
            "pengaruh pertumbuhan penjualan, profitabilitas dan struktur aktiva terhadap struktur modal pada perusahaan real estate and property di bursa efek indonesia & pengaruh profitabilitas, pertumbuhan, struktur aktiva dan ukuran perusahaan terhadap struktur modal ( pada perusahaan property dan real estate yang terdaftar di bei) (score: 0.7786)\n",
            "working for references & references (score: 0.8080)\n",
            "aus dem bereich der vereinten nationen: berichte · nachrichten · meinungen & aus dem bereich der vereinten nationen (score: 0.7683)\n",
            "a cue-theory of consumption the harvard community has made this article openly available. please share how this access benefits you. your story matters & strategic judgment proofing the harvard community has made this article openly available. please share how this access benefits you. your story matters (score: 0.8579)\n",
            "income inequality & inequality (score: 0.7524)\n",
            "income inequality & income inequality and trade (score: 0.8407)\n",
            "pengaruh ukuran perusahaan, likuiditas dan profitabilitas terhadap struktur modal perusahaan (studi empiris pada perusahaan real estate yang terdaftar di bei tahun 2017) & pengaruh profitabilitas, aktiva berwujud, ukuran perusahaan, pertumbuhan dan umur perusahaan terhadap struktur modal perusahaan (studi empiris pada perusahaan properti dan real estate yang terdaftar di bursa efek indonesia) (score: 0.7659)\n",
            "pengaruh ukuran perusahaan, likuiditas dan profitabilitas terhadap struktur modal perusahaan (studi empiris pada perusahaan real estate yang terdaftar di bei tahun 2017) & pengaruh profitabilitas, pertumbuhan, struktur aktiva dan ukuran perusahaan terhadap struktur modal ( pada perusahaan property dan real estate yang terdaftar di bei) (score: 0.7733)\n",
            "contributors & notes on contributors (score: 0.7732)\n",
            "commentary on \"disclosure, volatility, and transparency: an empirical investigation into the value of bank disclosure.\" & disclosure, volatility, and transparency: an empirical investigation into the value of bank disclosure (score: 0.9376)\n",
            "pengaruh profitabilitas, pertumbuhan, struktur aktiva dan ukuran perusahaan terhadap struktur modal ( pada perusahaan property dan real estate yang terdaftar di bei) & pengaruh profitabilitas, struktur aktiva, dan ukuran perusahaan terhadap struktur modal (score: 0.8089)\n",
            "pengaruh profitabilitas, pertumbuhan, struktur aktiva dan ukuran perusahaan terhadap struktur modal ( pada perusahaan property dan real estate yang terdaftar di bei) & pengaruh profitabilitas, aktiva berwujud, ukuran perusahaan, pertumbuhan dan umur perusahaan terhadap struktur modal perusahaan (studi empiris pada perusahaan properti dan real estate yang terdaftar di bursa efek indonesia) (score: 0.7681)\n",
            "pengaruh profitabilitas, pertumbuhan, struktur aktiva dan ukuran perusahaan terhadap struktur modal ( pada perusahaan property dan real estate yang terdaftar di bei) & pengaruh pertumbuhan penjualan, profitabilitas dan struktur aktiva terhadap struktur modal pada perusahaan real estate and property di bursa efek indonesia (score: 0.7786)\n",
            "pengaruh profitabilitas, pertumbuhan, struktur aktiva dan ukuran perusahaan terhadap struktur modal ( pada perusahaan property dan real estate yang terdaftar di bei) & pengaruh ukuran perusahaan, likuiditas dan profitabilitas terhadap struktur modal perusahaan (studi empiris pada perusahaan real estate yang terdaftar di bei tahun 2017) (score: 0.7733)\n",
            "‘poverty, equity and growth in developing and transition countries: statistical methods and empirical analysis’ & ‘ poverty , equity and growth in developing and transition countries : statistical methods and empirical analysis (score: 1.0000)\n",
            "philosophy of economics & philosophy of ecological economics (score: 0.8230)\n",
            "table dp-1. profile of general demographic characteristics: 2000 geographic area: iowa & table dp-1. profile of general demographic characteristics: 2000 geographic area: heber city, utah (score: 0.7581)\n",
            "table dp-1. profile of general demographic characteristics: 2000 geographic area: iowa & table dp-1. profile of general demographic characteristics: 2000 geographic area: colby city, kansas (score: 0.7564)\n",
            "an empirical study on the dynamic relationship between oil prices and indian stock market & an empirical study on the dynamic relationship between crude oil prices and pakistan stock market (score: 0.7949)\n",
            "corporate financing under heterogeneous beliefs & heterogeneous beliefs,corporate financing and investment return (score: 0.7986)\n",
            "free agents’ impact on the labor market for baseball players & the baseball players' labor market (score: 0.7686)\n",
            "m3 money demand and excess liquidity in the euro area & investigating m3 money demand in the euro area (score: 0.7500)\n",
            "an empirical study on the dynamic relationship between crude oil prices and pakistan stock market & an empirical study on the dynamic relationship between oil prices and indian stock market (score: 0.7949)\n",
            "household debt and adult depressive symptoms & household debt and adult depressive symptoms in the united states (score: 0.9115)\n",
            "structural changes in the demand of labor in chile & structural changes in the demand for labor (score: 0.8052)\n",
            "note from the editor & from the editor (score: 0.8227)\n",
            "note from the editor & note from the editor: the results of accounting (score: 0.7884)\n",
            "essays on china's international trade & essays on international trade and migration (score: 0.7667)\n",
            "the operation of the export bonus scheme in pakistan's jute and cotton industries & the operation of the export bonus scheme in pakistan's jute and cotton industries. (score: 1.0000)\n",
            "the \"dobrescu macromodel\" of the romanian market economy - 2005 version - yearly forecast – summer forecast for 2010 & the \"dobrescu macromodel\" of the romanian market economy - 2005 version yearly forecast - autumn forecast 2009 (score: 0.8427)\n",
            "structural changes in the demand for labor & structural changes in the demand of labor in chile (score: 0.8052)\n",
            "economic growth and human development & 5 development and economic growth (score: 0.7881)\n",
            "economic growth and human development & economic growth, exclusion and human development (score: 0.7565)\n",
            "from the editor & note from the editor (score: 0.8227)\n",
            "empirical analysis of time series & time-series analysis (score: 0.8689)\n",
            "the institutional economics of foreign aid: introduction & the institutional economics of foreign aid (score: 0.8861)\n",
            "‘ poverty , equity and growth in developing and transition countries : statistical methods and empirical analysis & ‘poverty, equity and growth in developing and transition countries: statistical methods and empirical analysis’ (score: 1.0000)\n",
            "the asean economic community and asean economic integration & asean-eu economic relationship: integration and lessons for the asean economic community (score: 0.8660)\n",
            "note from the editor: the results of accounting & note from the editor (score: 0.7884)\n",
            "an expansion of the neoclassical horizon in economics: the rent–seeking research program brings in the nuances of social and political control & an expansion of the neoclassical horizon in economics: the rent-seeking research program brings in the nuances of social and political control (score: 1.0000)\n",
            "calendar market anomalies & calendar anomalies: a survey of the literature (score: 0.7591)\n",
            "international trade and the environment & analysis on the issue of the trade and environment in international environment law (score: 0.7655)\n",
            "water, equity and development & equity and development equity and development overview equity and development (score: 0.7529)\n",
            "aus dem bereich der vereinten nationen & aus dem bereich der vereinten nationen: berichte · nachrichten · meinungen (score: 0.7683)\n",
            "money and wealth & money, wealth and economic theory (score: 0.8252)\n",
            "membership in employers' associations and collective bargaining coverage in germany & membership in employers’ associations and collective bargaining coverage in germany (score: 1.0000)\n",
            "book review: retail marketing and merchandising & book review: mathematics of retail merchandising (score: 0.7715)\n",
            "form 25—notice of examination before the official receiver (individual bankrupt) —for persons to which the 2009 amendments do not apply & form 24—notice of examination before the official receiver (corporation) —for persons to which the 2009 amendments do not apply (score: 0.8208)\n",
            "equity and development equity and development overview equity and development & water, equity and development (score: 0.7529)\n",
            "credit default swaps & a valuation model for credit default swaps (score: 0.8274)\n",
            "investigating m3 money demand in the euro area & m3 money demand and excess liquidity in the euro area (score: 0.7500)\n",
            "commodity problems of developing countries & problems of developing countries (score: 0.8128)\n",
            "decomposing the great trade collapse : products, prices, and quantities in the 2008-2009 crisis & decomposing the great trade collapse: products, prices, and quantities in the 2008-2009 crisis (score: 1.0000)\n",
            "the baseball players' labor market & free agents’ impact on the labor market for baseball players (score: 0.7686)\n",
            "handbook of markets and economies: east asia, southeast asia, australia, new zealand : east asia, southeast asia, australia, new zealand & australia and southeast asia (score: 0.7511)\n",
            "pembentukan portofolio optimal dengan model indeks tunggal (studi pada saham-saham jakarta islamic index periode 2007-2009) & analisis pembentukan portofolio optimal dengan menggunakan model indeks tunggal (studi pada saham jakarta islamic index (jii) periode 2011-2013) (score: 0.7911)\n",
            "risk management and financial derivatives:an overview & risk management and financial derivatives: an overview (score: 1.0000)\n",
            "private wealth and public revenue in latin america: latin america’s tax problem & latin america (score: 0.7755)\n",
            "decomposing the great trade collapse: products, prices, and quantities in the 2008-2009 crisis & decomposing the great trade collapse : products, prices, and quantities in the 2008-2009 crisis (score: 1.0000)\n",
            "essays in behavioral economics & essays in behavioral public economics. (score: 0.9199)\n",
            "list of standard abbreviations & list of abbreviations (score: 0.8764)\n",
            "understanding risk: the theory and practice of financial risk management & theory and practice of model risk management (score: 0.7572)\n"
          ]
        }
      ],
      "source": [
        "%%time\n",
        "from sklearn.feature_extraction.text import TfidfVectorizer\n",
        "from sklearn.metrics.pairwise import cosine_similarity\n",
        "\n",
        "tfidf_vectorizer = TfidfVectorizer()\n",
        "tfidf_matrix = tfidf_vectorizer.fit_transform(df_english_titles['title'])\n",
        "cosine_sim = cosine_similarity(tfidf_matrix, tfidf_matrix)\n",
        "\n",
        "num_titles = len(df_english_titles)\n",
        "for i in range(num_titles):\n",
        "    current_title = df_english_titles.iloc[i]['title']\n",
        "    similarities = cosine_sim[i]\n",
        "\n",
        "    for j in range(num_titles):\n",
        "        if i != j:\n",
        "            other_title = df_english_titles.iloc[j]['title']\n",
        "            similarity_score = similarities[j]\n",
        "\n",
        "\n",
        "            if similarity_score > 0.75  :\n",
        "                print(f\"{current_title} & {other_title} (score: {similarity_score:.4f})\")\n"
      ]
    },
    {
      "cell_type": "code",
      "source": [],
      "metadata": {
        "id": "scn0U_i0gQqU"
      },
      "id": "scn0U_i0gQqU",
      "execution_count": null,
      "outputs": []
    },
    {
      "cell_type": "markdown",
      "source": [
        "14h 32min 16s"
      ],
      "metadata": {
        "id": "1eSorxE1gR_1"
      },
      "id": "1eSorxE1gR_1"
    }
  ],
  "metadata": {
    "colab": {
      "machine_shape": "hm",
      "provenance": [],
      "toc_visible": true,
      "include_colab_link": true
    },
    "kernelspec": {
      "display_name": "Python 3 (ipykernel)",
      "language": "python",
      "name": "python3"
    },
    "language_info": {
      "codemirror_mode": {
        "name": "ipython",
        "version": 3
      },
      "file_extension": ".py",
      "mimetype": "text/x-python",
      "name": "python",
      "nbconvert_exporter": "python",
      "pygments_lexer": "ipython3",
      "version": "3.8.10"
    }
  },
  "nbformat": 4,
  "nbformat_minor": 5
}