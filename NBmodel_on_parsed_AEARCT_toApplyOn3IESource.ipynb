{
  "nbformat": 4,
  "nbformat_minor": 0,
  "metadata": {
    "colab": {
      "provenance": [],
      "authorship_tag": "ABX9TyOEl3p3u0/e4DVeTCWbIyLS",
      "include_colab_link": true
    },
    "kernelspec": {
      "name": "python3",
      "display_name": "Python 3"
    },
    "language_info": {
      "name": "python"
    }
  },
  "cells": [
    {
      "cell_type": "markdown",
      "metadata": {
        "id": "view-in-github",
        "colab_type": "text"
      },
      "source": [
        "<a href=\"https://colab.research.google.com/github/dyou-wbg/meta_processing/blob/main/NBmodel_on_parsed_AEARCT_toApplyOn3IESource.ipynb\" target=\"_parent\"><img src=\"https://colab.research.google.com/assets/colab-badge.svg\" alt=\"Open In Colab\"/></a>"
      ]
    },
    {
      "cell_type": "code",
      "execution_count": 1,
      "metadata": {
        "id": "OxgM1Srhp--7",
        "colab": {
          "base_uri": "https://localhost:8080/"
        },
        "outputId": "98d32d88-b8dc-4008-9d0c-1f2fa9c7e8e3"
      },
      "outputs": [
        {
          "output_type": "stream",
          "name": "stdout",
          "text": [
            "Mounted at /content/drive\n"
          ]
        }
      ],
      "source": [
        "from google.colab import drive\n",
        "drive.mount('/content/drive')\n",
        "import pandas as pd\n",
        "# as of today\n",
        "import datetime as dt\n",
        "dt.date.today()\n",
        "import os\n",
        "import pandas as pd\n",
        "from google.colab import drive\n",
        "import csv\n",
        "import os\n",
        "data_dir = '/content/drive/MyDrive/finalMetaFile'\n",
        "files = os.listdir(data_dir)"
      ]
    },
    {
      "cell_type": "markdown",
      "source": [
        "# Train on AEA RCT paper abstract"
      ],
      "metadata": {
        "id": "ipC4h48QoO-7"
      }
    },
    {
      "cell_type": "code",
      "source": [
        "df = pd.read_csv('/content/drive/MyDrive/finalMetaFile/AEA RCT trials with extracted info.csv')\n",
        "df_aea=df[['Paper_Abstract','Paper_Article Title','Relevant papers for csv']].dropna()\n",
        "import re\n",
        "df_aea['title'] = df_aea['Relevant papers for csv'].str.extract(r'\"(.*?)\"', expand=False)\n",
        "df_aea=df_aea.rename(columns={'Paper_Abstract': 'abstract'})\n",
        "print(len(df_aea),df_aea['title'].isna().sum())"
      ],
      "metadata": {
        "colab": {
          "base_uri": "https://localhost:8080/"
        },
        "id": "cWjNJRuGoOS7",
        "outputId": "955ccaa3-0a64-4171-97de-3837c3e1cb5f"
      },
      "execution_count": 31,
      "outputs": [
        {
          "output_type": "stream",
          "name": "stdout",
          "text": [
            "625 330\n"
          ]
        }
      ]
    },
    {
      "cell_type": "code",
      "source": [
        "df_aea['label'] = 1"
      ],
      "metadata": {
        "id": "-qTYkx-lp5ZA"
      },
      "execution_count": 32,
      "outputs": []
    },
    {
      "cell_type": "code",
      "source": [
        "df_aea=df_aea.drop(columns=['Paper_Article Title','Relevant papers for csv'])\n",
        "df_aea = df_aea[df_aea['title'].notnull()]\n",
        "df_aea"
      ],
      "metadata": {
        "colab": {
          "base_uri": "https://localhost:8080/",
          "height": 424
        },
        "id": "mdChaIFHsOny",
        "outputId": "d2954411-15aa-4f30-b2bf-26c16a65a8d5"
      },
      "execution_count": 34,
      "outputs": [
        {
          "output_type": "execute_result",
          "data": {
            "text/plain": [
              "                                               abstract  \\\n",
              "18    In 2008, Oregon initiated a limited expansion ...   \n",
              "22    Low willingness to pay (WTP) for environmental...   \n",
              "28    We designed a commitment savings product for a...   \n",
              "41    We study how career incentives affect who sele...   \n",
              "43    Objectives\\r\\nPregnancy, labour, and delivery ...   \n",
              "...                                                 ...   \n",
              "5154  New technologies allow perfect detection of en...   \n",
              "5683  Despite its empirical relevance, increasing re...   \n",
              "5739  Under-refinancing limits the transmission of a...   \n",
              "5943  In a time when politics seem to be polarized a...   \n",
              "7740  We conduct a field experiment with low-income ...   \n",
              "\n",
              "                                                  title  label  \n",
              "18    Medicaid Increases Emergency Department Use: E...      1  \n",
              "22    Microcredit and willingness to pay for environ...      1  \n",
              "28    Tying Odysseus to the Mast: Evidence from a Co...      1  \n",
              "41    Do-Gooders and Go-Getters: Career Incentives, ...      1  \n",
              "43    ‘Little Bit Afraid ‘Til I Found How It Was’: C...      1  \n",
              "...                                                 ...    ...  \n",
              "5154  Man vs. machine: Technological promise and pol...      1  \n",
              "5683  Sharing Rules in Bertrand Oligopolies with Inc...      1  \n",
              "5739  The Last Mile of Monetary Policy: Inattention,...      1  \n",
              "5943                               Democratic Socialism      1  \n",
              "7740                         Behavioral Food Subsidies,      1  \n",
              "\n",
              "[295 rows x 3 columns]"
            ],
            "text/html": [
              "\n",
              "  <div id=\"df-c3020dbb-c370-40ea-b203-3bdecb7384e9\" class=\"colab-df-container\">\n",
              "    <div>\n",
              "<style scoped>\n",
              "    .dataframe tbody tr th:only-of-type {\n",
              "        vertical-align: middle;\n",
              "    }\n",
              "\n",
              "    .dataframe tbody tr th {\n",
              "        vertical-align: top;\n",
              "    }\n",
              "\n",
              "    .dataframe thead th {\n",
              "        text-align: right;\n",
              "    }\n",
              "</style>\n",
              "<table border=\"1\" class=\"dataframe\">\n",
              "  <thead>\n",
              "    <tr style=\"text-align: right;\">\n",
              "      <th></th>\n",
              "      <th>abstract</th>\n",
              "      <th>title</th>\n",
              "      <th>label</th>\n",
              "    </tr>\n",
              "  </thead>\n",
              "  <tbody>\n",
              "    <tr>\n",
              "      <th>18</th>\n",
              "      <td>In 2008, Oregon initiated a limited expansion ...</td>\n",
              "      <td>Medicaid Increases Emergency Department Use: E...</td>\n",
              "      <td>1</td>\n",
              "    </tr>\n",
              "    <tr>\n",
              "      <th>22</th>\n",
              "      <td>Low willingness to pay (WTP) for environmental...</td>\n",
              "      <td>Microcredit and willingness to pay for environ...</td>\n",
              "      <td>1</td>\n",
              "    </tr>\n",
              "    <tr>\n",
              "      <th>28</th>\n",
              "      <td>We designed a commitment savings product for a...</td>\n",
              "      <td>Tying Odysseus to the Mast: Evidence from a Co...</td>\n",
              "      <td>1</td>\n",
              "    </tr>\n",
              "    <tr>\n",
              "      <th>41</th>\n",
              "      <td>We study how career incentives affect who sele...</td>\n",
              "      <td>Do-Gooders and Go-Getters: Career Incentives, ...</td>\n",
              "      <td>1</td>\n",
              "    </tr>\n",
              "    <tr>\n",
              "      <th>43</th>\n",
              "      <td>Objectives\\r\\nPregnancy, labour, and delivery ...</td>\n",
              "      <td>‘Little Bit Afraid ‘Til I Found How It Was’: C...</td>\n",
              "      <td>1</td>\n",
              "    </tr>\n",
              "    <tr>\n",
              "      <th>...</th>\n",
              "      <td>...</td>\n",
              "      <td>...</td>\n",
              "      <td>...</td>\n",
              "    </tr>\n",
              "    <tr>\n",
              "      <th>5154</th>\n",
              "      <td>New technologies allow perfect detection of en...</td>\n",
              "      <td>Man vs. machine: Technological promise and pol...</td>\n",
              "      <td>1</td>\n",
              "    </tr>\n",
              "    <tr>\n",
              "      <th>5683</th>\n",
              "      <td>Despite its empirical relevance, increasing re...</td>\n",
              "      <td>Sharing Rules in Bertrand Oligopolies with Inc...</td>\n",
              "      <td>1</td>\n",
              "    </tr>\n",
              "    <tr>\n",
              "      <th>5739</th>\n",
              "      <td>Under-refinancing limits the transmission of a...</td>\n",
              "      <td>The Last Mile of Monetary Policy: Inattention,...</td>\n",
              "      <td>1</td>\n",
              "    </tr>\n",
              "    <tr>\n",
              "      <th>5943</th>\n",
              "      <td>In a time when politics seem to be polarized a...</td>\n",
              "      <td>Democratic Socialism</td>\n",
              "      <td>1</td>\n",
              "    </tr>\n",
              "    <tr>\n",
              "      <th>7740</th>\n",
              "      <td>We conduct a field experiment with low-income ...</td>\n",
              "      <td>Behavioral Food Subsidies,</td>\n",
              "      <td>1</td>\n",
              "    </tr>\n",
              "  </tbody>\n",
              "</table>\n",
              "<p>295 rows × 3 columns</p>\n",
              "</div>\n",
              "    <div class=\"colab-df-buttons\">\n",
              "\n",
              "  <div class=\"colab-df-container\">\n",
              "    <button class=\"colab-df-convert\" onclick=\"convertToInteractive('df-c3020dbb-c370-40ea-b203-3bdecb7384e9')\"\n",
              "            title=\"Convert this dataframe to an interactive table.\"\n",
              "            style=\"display:none;\">\n",
              "\n",
              "  <svg xmlns=\"http://www.w3.org/2000/svg\" height=\"24px\" viewBox=\"0 -960 960 960\">\n",
              "    <path d=\"M120-120v-720h720v720H120Zm60-500h600v-160H180v160Zm220 220h160v-160H400v160Zm0 220h160v-160H400v160ZM180-400h160v-160H180v160Zm440 0h160v-160H620v160ZM180-180h160v-160H180v160Zm440 0h160v-160H620v160Z\"/>\n",
              "  </svg>\n",
              "    </button>\n",
              "\n",
              "  <style>\n",
              "    .colab-df-container {\n",
              "      display:flex;\n",
              "      gap: 12px;\n",
              "    }\n",
              "\n",
              "    .colab-df-convert {\n",
              "      background-color: #E8F0FE;\n",
              "      border: none;\n",
              "      border-radius: 50%;\n",
              "      cursor: pointer;\n",
              "      display: none;\n",
              "      fill: #1967D2;\n",
              "      height: 32px;\n",
              "      padding: 0 0 0 0;\n",
              "      width: 32px;\n",
              "    }\n",
              "\n",
              "    .colab-df-convert:hover {\n",
              "      background-color: #E2EBFA;\n",
              "      box-shadow: 0px 1px 2px rgba(60, 64, 67, 0.3), 0px 1px 3px 1px rgba(60, 64, 67, 0.15);\n",
              "      fill: #174EA6;\n",
              "    }\n",
              "\n",
              "    .colab-df-buttons div {\n",
              "      margin-bottom: 4px;\n",
              "    }\n",
              "\n",
              "    [theme=dark] .colab-df-convert {\n",
              "      background-color: #3B4455;\n",
              "      fill: #D2E3FC;\n",
              "    }\n",
              "\n",
              "    [theme=dark] .colab-df-convert:hover {\n",
              "      background-color: #434B5C;\n",
              "      box-shadow: 0px 1px 3px 1px rgba(0, 0, 0, 0.15);\n",
              "      filter: drop-shadow(0px 1px 2px rgba(0, 0, 0, 0.3));\n",
              "      fill: #FFFFFF;\n",
              "    }\n",
              "  </style>\n",
              "\n",
              "    <script>\n",
              "      const buttonEl =\n",
              "        document.querySelector('#df-c3020dbb-c370-40ea-b203-3bdecb7384e9 button.colab-df-convert');\n",
              "      buttonEl.style.display =\n",
              "        google.colab.kernel.accessAllowed ? 'block' : 'none';\n",
              "\n",
              "      async function convertToInteractive(key) {\n",
              "        const element = document.querySelector('#df-c3020dbb-c370-40ea-b203-3bdecb7384e9');\n",
              "        const dataTable =\n",
              "          await google.colab.kernel.invokeFunction('convertToInteractive',\n",
              "                                                    [key], {});\n",
              "        if (!dataTable) return;\n",
              "\n",
              "        const docLinkHtml = 'Like what you see? Visit the ' +\n",
              "          '<a target=\"_blank\" href=https://colab.research.google.com/notebooks/data_table.ipynb>data table notebook</a>'\n",
              "          + ' to learn more about interactive tables.';\n",
              "        element.innerHTML = '';\n",
              "        dataTable['output_type'] = 'display_data';\n",
              "        await google.colab.output.renderOutput(dataTable, element);\n",
              "        const docLink = document.createElement('div');\n",
              "        docLink.innerHTML = docLinkHtml;\n",
              "        element.appendChild(docLink);\n",
              "      }\n",
              "    </script>\n",
              "  </div>\n",
              "\n",
              "\n",
              "<div id=\"df-a3728258-b9b3-4492-a450-49ff2624f6d6\">\n",
              "  <button class=\"colab-df-quickchart\" onclick=\"quickchart('df-a3728258-b9b3-4492-a450-49ff2624f6d6')\"\n",
              "            title=\"Suggest charts\"\n",
              "            style=\"display:none;\">\n",
              "\n",
              "<svg xmlns=\"http://www.w3.org/2000/svg\" height=\"24px\"viewBox=\"0 0 24 24\"\n",
              "     width=\"24px\">\n",
              "    <g>\n",
              "        <path d=\"M19 3H5c-1.1 0-2 .9-2 2v14c0 1.1.9 2 2 2h14c1.1 0 2-.9 2-2V5c0-1.1-.9-2-2-2zM9 17H7v-7h2v7zm4 0h-2V7h2v10zm4 0h-2v-4h2v4z\"/>\n",
              "    </g>\n",
              "</svg>\n",
              "  </button>\n",
              "\n",
              "<style>\n",
              "  .colab-df-quickchart {\n",
              "      --bg-color: #E8F0FE;\n",
              "      --fill-color: #1967D2;\n",
              "      --hover-bg-color: #E2EBFA;\n",
              "      --hover-fill-color: #174EA6;\n",
              "      --disabled-fill-color: #AAA;\n",
              "      --disabled-bg-color: #DDD;\n",
              "  }\n",
              "\n",
              "  [theme=dark] .colab-df-quickchart {\n",
              "      --bg-color: #3B4455;\n",
              "      --fill-color: #D2E3FC;\n",
              "      --hover-bg-color: #434B5C;\n",
              "      --hover-fill-color: #FFFFFF;\n",
              "      --disabled-bg-color: #3B4455;\n",
              "      --disabled-fill-color: #666;\n",
              "  }\n",
              "\n",
              "  .colab-df-quickchart {\n",
              "    background-color: var(--bg-color);\n",
              "    border: none;\n",
              "    border-radius: 50%;\n",
              "    cursor: pointer;\n",
              "    display: none;\n",
              "    fill: var(--fill-color);\n",
              "    height: 32px;\n",
              "    padding: 0;\n",
              "    width: 32px;\n",
              "  }\n",
              "\n",
              "  .colab-df-quickchart:hover {\n",
              "    background-color: var(--hover-bg-color);\n",
              "    box-shadow: 0 1px 2px rgba(60, 64, 67, 0.3), 0 1px 3px 1px rgba(60, 64, 67, 0.15);\n",
              "    fill: var(--button-hover-fill-color);\n",
              "  }\n",
              "\n",
              "  .colab-df-quickchart-complete:disabled,\n",
              "  .colab-df-quickchart-complete:disabled:hover {\n",
              "    background-color: var(--disabled-bg-color);\n",
              "    fill: var(--disabled-fill-color);\n",
              "    box-shadow: none;\n",
              "  }\n",
              "\n",
              "  .colab-df-spinner {\n",
              "    border: 2px solid var(--fill-color);\n",
              "    border-color: transparent;\n",
              "    border-bottom-color: var(--fill-color);\n",
              "    animation:\n",
              "      spin 1s steps(1) infinite;\n",
              "  }\n",
              "\n",
              "  @keyframes spin {\n",
              "    0% {\n",
              "      border-color: transparent;\n",
              "      border-bottom-color: var(--fill-color);\n",
              "      border-left-color: var(--fill-color);\n",
              "    }\n",
              "    20% {\n",
              "      border-color: transparent;\n",
              "      border-left-color: var(--fill-color);\n",
              "      border-top-color: var(--fill-color);\n",
              "    }\n",
              "    30% {\n",
              "      border-color: transparent;\n",
              "      border-left-color: var(--fill-color);\n",
              "      border-top-color: var(--fill-color);\n",
              "      border-right-color: var(--fill-color);\n",
              "    }\n",
              "    40% {\n",
              "      border-color: transparent;\n",
              "      border-right-color: var(--fill-color);\n",
              "      border-top-color: var(--fill-color);\n",
              "    }\n",
              "    60% {\n",
              "      border-color: transparent;\n",
              "      border-right-color: var(--fill-color);\n",
              "    }\n",
              "    80% {\n",
              "      border-color: transparent;\n",
              "      border-right-color: var(--fill-color);\n",
              "      border-bottom-color: var(--fill-color);\n",
              "    }\n",
              "    90% {\n",
              "      border-color: transparent;\n",
              "      border-bottom-color: var(--fill-color);\n",
              "    }\n",
              "  }\n",
              "</style>\n",
              "\n",
              "  <script>\n",
              "    async function quickchart(key) {\n",
              "      const quickchartButtonEl =\n",
              "        document.querySelector('#' + key + ' button');\n",
              "      quickchartButtonEl.disabled = true;  // To prevent multiple clicks.\n",
              "      quickchartButtonEl.classList.add('colab-df-spinner');\n",
              "      try {\n",
              "        const charts = await google.colab.kernel.invokeFunction(\n",
              "            'suggestCharts', [key], {});\n",
              "      } catch (error) {\n",
              "        console.error('Error during call to suggestCharts:', error);\n",
              "      }\n",
              "      quickchartButtonEl.classList.remove('colab-df-spinner');\n",
              "      quickchartButtonEl.classList.add('colab-df-quickchart-complete');\n",
              "    }\n",
              "    (() => {\n",
              "      let quickchartButtonEl =\n",
              "        document.querySelector('#df-a3728258-b9b3-4492-a450-49ff2624f6d6 button');\n",
              "      quickchartButtonEl.style.display =\n",
              "        google.colab.kernel.accessAllowed ? 'block' : 'none';\n",
              "    })();\n",
              "  </script>\n",
              "</div>\n",
              "\n",
              "  <div id=\"id_7d5a969f-8031-449c-b72a-374e0aa50135\">\n",
              "    <style>\n",
              "      .colab-df-generate {\n",
              "        background-color: #E8F0FE;\n",
              "        border: none;\n",
              "        border-radius: 50%;\n",
              "        cursor: pointer;\n",
              "        display: none;\n",
              "        fill: #1967D2;\n",
              "        height: 32px;\n",
              "        padding: 0 0 0 0;\n",
              "        width: 32px;\n",
              "      }\n",
              "\n",
              "      .colab-df-generate:hover {\n",
              "        background-color: #E2EBFA;\n",
              "        box-shadow: 0px 1px 2px rgba(60, 64, 67, 0.3), 0px 1px 3px 1px rgba(60, 64, 67, 0.15);\n",
              "        fill: #174EA6;\n",
              "      }\n",
              "\n",
              "      [theme=dark] .colab-df-generate {\n",
              "        background-color: #3B4455;\n",
              "        fill: #D2E3FC;\n",
              "      }\n",
              "\n",
              "      [theme=dark] .colab-df-generate:hover {\n",
              "        background-color: #434B5C;\n",
              "        box-shadow: 0px 1px 3px 1px rgba(0, 0, 0, 0.15);\n",
              "        filter: drop-shadow(0px 1px 2px rgba(0, 0, 0, 0.3));\n",
              "        fill: #FFFFFF;\n",
              "      }\n",
              "    </style>\n",
              "    <button class=\"colab-df-generate\" onclick=\"generateWithVariable('df_aea')\"\n",
              "            title=\"Generate code using this dataframe.\"\n",
              "            style=\"display:none;\">\n",
              "\n",
              "  <svg xmlns=\"http://www.w3.org/2000/svg\" height=\"24px\"viewBox=\"0 0 24 24\"\n",
              "       width=\"24px\">\n",
              "    <path d=\"M7,19H8.4L18.45,9,17,7.55,7,17.6ZM5,21V16.75L18.45,3.32a2,2,0,0,1,2.83,0l1.4,1.43a1.91,1.91,0,0,1,.58,1.4,1.91,1.91,0,0,1-.58,1.4L9.25,21ZM18.45,9,17,7.55Zm-12,3A5.31,5.31,0,0,0,4.9,8.1,5.31,5.31,0,0,0,1,6.5,5.31,5.31,0,0,0,4.9,4.9,5.31,5.31,0,0,0,6.5,1,5.31,5.31,0,0,0,8.1,4.9,5.31,5.31,0,0,0,12,6.5,5.46,5.46,0,0,0,6.5,12Z\"/>\n",
              "  </svg>\n",
              "    </button>\n",
              "    <script>\n",
              "      (() => {\n",
              "      const buttonEl =\n",
              "        document.querySelector('#id_7d5a969f-8031-449c-b72a-374e0aa50135 button.colab-df-generate');\n",
              "      buttonEl.style.display =\n",
              "        google.colab.kernel.accessAllowed ? 'block' : 'none';\n",
              "\n",
              "      buttonEl.onclick = () => {\n",
              "        google.colab.notebook.generateWithVariable('df_aea');\n",
              "      }\n",
              "      })();\n",
              "    </script>\n",
              "  </div>\n",
              "\n",
              "    </div>\n",
              "  </div>\n"
            ],
            "application/vnd.google.colaboratory.intrinsic+json": {
              "type": "dataframe",
              "variable_name": "df_aea",
              "summary": "{\n  \"name\": \"df_aea\",\n  \"rows\": 295,\n  \"fields\": [\n    {\n      \"column\": \"abstract\",\n      \"properties\": {\n        \"dtype\": \"string\",\n        \"num_unique_values\": 294,\n        \"samples\": [\n          \"Results from a randomized experiment conducted with teenage schoolgirls in Cameroon suggest that\\r\\nHIV prevention interventions can be effective at reducing the incidence of teen pregnancy in the following\\r\\n9-12 months by over 25 percent. We find little difference in effectiveness between one-time, one-hour\\r\\nsessions delivered directly to students by specialized consultants and sessions delivered through regular\\r\\nschool staff trained over two days by specialized consultants. We also find little difference between the\\r\\nstandard \\u201cAbstain, Be Faithful, Use Condoms\\u201d curriculum and an enriched curriculum that includes information\\r\\non the heightened risk of cross-generational sex. Lastly, a one-time, one-hour self-administered\\r\\nquestionnaire on HIV and sexual behavior has an equally large impact on teen pregnancy. These results\\r\\nsuggest that rural teenage schoolgirls\\u2019 sexual behavior is highly responsive to even small interventions\\r\\nthat make the risks of HIV and pregnancy salient. We find no effects among urban schoolgirls, who are\\r\\nmore exposed to information and experience much lower rates of teenage pregnancy under the status\\r\\nquo.\",\n          \"Many foreign aid agencies fund large-scale agricultural training for farmers in developing countries, but little rigorous research has been conducted on whether these programs are effective. We used a clustered randomized controlled trial to estimate the effectiveness of a U.S. government-funded farmer training program that trained more than 50,000 farmers throughout Armenia. Three years after farmers received training, training did not increase household income or consumption. Training also did not affect mediating outcomes, such as adoption of agricultural practices or changes in cultivation of crops, which suggests that longer-term impacts are unlikely to materialize. Many farmers lacked the financial means to invest in the types of practices that were the focus of the curricula, and farmers were also often unwilling to try new crops that have higher up-front costs even if they are much more profitable in the long run. Our findings highlight the challenges that even a well-implemented training program has in spurring behavioral change among farmers and the challenges of providing effective services when foreign aid agencies prioritize having a large programmatic footprint. These challenges were central to the lack of impacts of this particular program but are underplayed when foreign aid agencies decide whether to fund agricultural training programs.\",\n          \"Does limited access to formal savings services impede business growth in poor countries? To shed light on this question, we randomized access to noninterest-bearing bank accounts among two types of self-employed individuals in rural Kenya: market vendors (who are mostly women) and men working as bicycle taxi drivers. Despite large withdrawal fees, a substantial share of market women used the accounts, were able to save more, and increased their productive investment and private expenditures. We see no impact for bicycle taxi drivers. These results imply significant barriers to savings and investment for market women in our study context.\"\n        ],\n        \"semantic_type\": \"\",\n        \"description\": \"\"\n      }\n    },\n    {\n      \"column\": \"title\",\n      \"properties\": {\n        \"dtype\": \"string\",\n        \"num_unique_values\": 291,\n        \"samples\": [\n          \"Resource Pooling within Family Networks: Insurance and Investment.\",\n          \"All Eyes on Them: A Field Experiment on Citizen Oversight and Electoral Integrity.\",\n          \"Investing in Schooling in Chile: The Role of Information About Financial Aid for Higher Education.\"\n        ],\n        \"semantic_type\": \"\",\n        \"description\": \"\"\n      }\n    },\n    {\n      \"column\": \"label\",\n      \"properties\": {\n        \"dtype\": \"number\",\n        \"std\": 0,\n        \"min\": 1,\n        \"max\": 1,\n        \"num_unique_values\": 1,\n        \"samples\": [\n          1\n        ],\n        \"semantic_type\": \"\",\n        \"description\": \"\"\n      }\n    }\n  ]\n}"
            }
          },
          "metadata": {},
          "execution_count": 34
        }
      ]
    },
    {
      "cell_type": "code",
      "source": [
        "len(df_aea)"
      ],
      "metadata": {
        "colab": {
          "base_uri": "https://localhost:8080/"
        },
        "id": "13l5jnp52nEN",
        "outputId": "b8cb3228-2e2d-4ed5-c5cf-8bbf2e3f2bb2"
      },
      "execution_count": 35,
      "outputs": [
        {
          "output_type": "execute_result",
          "data": {
            "text/plain": [
              "295"
            ]
          },
          "metadata": {},
          "execution_count": 35
        }
      ]
    },
    {
      "cell_type": "markdown",
      "source": [
        "## Attached AEA to 3IE"
      ],
      "metadata": {
        "id": "wnauyKol3CSh"
      }
    },
    {
      "cell_type": "code",
      "source": [
        "df2 = pd.read_csv('/content/drive/MyDrive/finalMetaFile/3ie_parsed_metadata.csv')"
      ],
      "metadata": {
        "id": "9Dvq1zIgr0-o"
      },
      "execution_count": 36,
      "outputs": []
    },
    {
      "cell_type": "markdown",
      "source": [
        "# 1. Title based classfication"
      ],
      "metadata": {
        "id": "ukXjyfSRIXTC"
      }
    },
    {
      "cell_type": "code",
      "source": [
        "\n",
        "import pandas as pd\n",
        "df2['label'] = df2['method'].apply(lambda x: 1 if pd.notnull(x) and \"Randomised controlled trial\" in x else 0)\n",
        "df_ready=df2[['title','abstract','label']].append(df_aea)\n",
        "df_ready.columns"
      ],
      "metadata": {
        "id": "r3TNtWUjETM6",
        "colab": {
          "base_uri": "https://localhost:8080/"
        },
        "outputId": "d0c279ec-afc1-4f13-d0bb-3d225a9d7028"
      },
      "execution_count": 39,
      "outputs": [
        {
          "output_type": "stream",
          "name": "stderr",
          "text": [
            "<ipython-input-39-f3ab401072f0>:3: FutureWarning: The frame.append method is deprecated and will be removed from pandas in a future version. Use pandas.concat instead.\n",
            "  df_ready=df2[['title','abstract','label']].append(df_aea)\n"
          ]
        },
        {
          "output_type": "execute_result",
          "data": {
            "text/plain": [
              "Index(['title', 'abstract', 'label'], dtype='object')"
            ]
          },
          "metadata": {},
          "execution_count": 39
        }
      ]
    },
    {
      "cell_type": "code",
      "source": [
        "from sklearn.naive_bayes import MultinomialNB\n",
        "from sklearn.feature_extraction.text import TfidfVectorizer\n",
        "from sklearn.model_selection import train_test_split"
      ],
      "metadata": {
        "id": "_f-lIbgMHcnj"
      },
      "execution_count": 40,
      "outputs": []
    },
    {
      "cell_type": "code",
      "source": [
        "import string\n",
        "\n",
        "def preprocess_text(text):\n",
        "  text = text.lower()\n",
        "  text = ''.join([c for c in text if c not in string.punctuation])\n",
        "  #text = ' '.join([word for word in text.split() if word not in stopwords.words('english')])\n",
        "  return text\n",
        "\n",
        "data =  df_ready\n",
        "data[\"Text\"] = data[\"title\"].apply(preprocess_text)\n",
        "\n",
        "\n",
        "vectorizer = TfidfVectorizer()\n",
        "features = vectorizer.fit_transform(data[\"Text\"])"
      ],
      "metadata": {
        "id": "YhJkzKPgHe_W"
      },
      "execution_count": 41,
      "outputs": []
    },
    {
      "cell_type": "code",
      "source": [
        "X_train, X_test, y_train, y_test = train_test_split(features, data[\"label\"], test_size=0.2)"
      ],
      "metadata": {
        "id": "puGv5iNbHfCw"
      },
      "execution_count": 42,
      "outputs": []
    },
    {
      "cell_type": "code",
      "source": [
        "clf = MultinomialNB()\n",
        "clf.fit(X_train, y_train)\n",
        "y_pred = clf.predict(X_test)\n",
        "from sklearn.metrics import accuracy_score\n",
        "\n",
        "accuracy = accuracy_score(y_test, y_pred)\n",
        "print(f\"Accuracy: {accuracy:.4f}\")\n"
      ],
      "metadata": {
        "colab": {
          "base_uri": "https://localhost:8080/"
        },
        "id": "TI9fvA9mHfIp",
        "outputId": "f9097d31-7a1c-443b-97f1-53ab431b0c6e"
      },
      "execution_count": 43,
      "outputs": [
        {
          "output_type": "stream",
          "name": "stdout",
          "text": [
            "Accuracy: 0.7370\n"
          ]
        }
      ]
    },
    {
      "cell_type": "markdown",
      "source": [
        "# 2. Abstract based"
      ],
      "metadata": {
        "id": "xiQnQKrGIf1T"
      }
    },
    {
      "cell_type": "code",
      "source": [
        "data =  df_ready\n",
        "data[\"Text\"] = data[\"abstract\"].fillna('NaN').apply(preprocess_text)\n",
        "\n",
        "vectorizer = TfidfVectorizer()\n",
        "features = vectorizer.fit_transform(data[\"Text\"])\n",
        "X_train, X_test, y_train, y_test = train_test_split(features, data[\"label\"], test_size=0.2)\n",
        "clf = MultinomialNB()\n",
        "clf.fit(X_train, y_train)\n",
        "y_pred = clf.predict(X_test)\n",
        "\n",
        "accuracy = accuracy_score(y_test, y_pred)\n",
        "print(f\"Accuracy: {accuracy:.4f}\")"
      ],
      "metadata": {
        "colab": {
          "base_uri": "https://localhost:8080/"
        },
        "id": "Y99SmBPKIAKz",
        "outputId": "78005cfa-9f94-4064-c2f7-a83eee08681b"
      },
      "execution_count": 44,
      "outputs": [
        {
          "output_type": "stream",
          "name": "stdout",
          "text": [
            "Accuracy: 0.7335\n"
          ]
        }
      ]
    },
    {
      "cell_type": "code",
      "source": [],
      "metadata": {
        "id": "-1aCi5sMIARS"
      },
      "execution_count": null,
      "outputs": []
    }
  ]
}