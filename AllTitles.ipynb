{
  "nbformat": 4,
  "nbformat_minor": 0,
  "metadata": {
    "colab": {
      "provenance": [],
      "toc_visible": true,
      "authorship_tag": "ABX9TyOJA8VV+MP5ku6riun2br4Z",
      "include_colab_link": true
    },
    "kernelspec": {
      "name": "python3",
      "display_name": "Python 3"
    },
    "language_info": {
      "name": "python"
    }
  },
  "cells": [
    {
      "cell_type": "markdown",
      "metadata": {
        "id": "view-in-github",
        "colab_type": "text"
      },
      "source": [
        "<a href=\"https://colab.research.google.com/github/dyou-wbg/meta_processing/blob/main/AllTitles.ipynb\" target=\"_parent\"><img src=\"https://colab.research.google.com/assets/colab-badge.svg\" alt=\"Open In Colab\"/></a>"
      ]
    },
    {
      "cell_type": "code",
      "source": [
        "from google.colab import drive\n",
        "drive.mount('/content/drive')\n",
        "import pandas as pd\n",
        "# as of today\n",
        "import datetime as dt\n",
        "dt.date.today()\n",
        "import os\n",
        "import pandas as pd\n",
        "from google.colab import drive\n",
        "import csv\n",
        "import os\n"
      ],
      "metadata": {
        "id": "aErZBEF0ZoHT",
        "colab": {
          "base_uri": "https://localhost:8080/"
        },
        "outputId": "02ea4e6c-66d1-4375-b4cb-fb0c85e59aa6"
      },
      "execution_count": 2,
      "outputs": [
        {
          "output_type": "stream",
          "name": "stdout",
          "text": [
            "Drive already mounted at /content/drive; to attempt to forcibly remount, call drive.mount(\"/content/drive\", force_remount=True).\n"
          ]
        }
      ]
    },
    {
      "cell_type": "code",
      "source": [
        "\n",
        "directory = '/content/drive/MyDrive/finalMetaFile'\n",
        "final_file_list = ['metadata_jstor.csv', 'metadata_scopus 2.csv', 'elsevier_metadata.csv', 'metadata_semantic_scholar.csv', 'url1_ie_table_complete.csv', 'metadata_econlit.csv', 'SSRN_metadata.csv', 'metadata_repec.csv']\n",
        "\n",
        "dataframes = []\n",
        "\n",
        "for filename in final_file_list:\n",
        "    if os.path.isfile(os.path.join(directory, filename)) and filename.endswith(\".csv\"):\n",
        "        df = pd.read_csv(os.path.join(directory, filename))\n",
        "        if \"title\" in df.columns:\n",
        "            df_final = df['title']\n",
        "        elif 'doc_name' in df.columns:\n",
        "            df_final = df['doc_name']\n",
        "        else:\n",
        "            print(f\"Missing required column in file: {filename}\")\n",
        "            continue\n",
        "        dataframes.append(df_final)\n",
        "\n",
        "df_combined = pd.concat(dataframes, ignore_index=True)\n",
        "df_combined.to_csv('/content/drive/MyDrive/All_titles.csv')\n"
      ],
      "metadata": {
        "colab": {
          "base_uri": "https://localhost:8080/"
        },
        "id": "fx6hLxhPBtgm",
        "outputId": "e11f39e5-6b90-481f-e045-f7a6a4e894bd"
      },
      "execution_count": 3,
      "outputs": [
        {
          "output_type": "stream",
          "name": "stderr",
          "text": [
            "<ipython-input-3-0fc3952b6ca7>:8: DtypeWarning: Columns (11) have mixed types. Specify dtype option on import or set low_memory=False.\n",
            "  df = pd.read_csv(os.path.join(directory, filename))\n",
            "<ipython-input-3-0fc3952b6ca7>:8: DtypeWarning: Columns (18) have mixed types. Specify dtype option on import or set low_memory=False.\n",
            "  df = pd.read_csv(os.path.join(directory, filename))\n",
            "<ipython-input-3-0fc3952b6ca7>:8: DtypeWarning: Columns (4,7) have mixed types. Specify dtype option on import or set low_memory=False.\n",
            "  df = pd.read_csv(os.path.join(directory, filename))\n"
          ]
        }
      ]
    }
  ]
}